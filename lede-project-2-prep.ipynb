{
 "cells": [
  {
   "cell_type": "code",
   "execution_count": 160,
   "id": "a1dfc264",
   "metadata": {},
   "outputs": [],
   "source": [
    "import lxml.html\n",
    "import pandas as pd\n",
    "import re\n",
    "import requests\n",
    "from bs4 import BeautifulSoup"
   ]
  },
  {
   "cell_type": "markdown",
   "id": "cd2d5df3",
   "metadata": {},
   "source": [
    "## Setup"
   ]
  },
  {
   "cell_type": "code",
   "execution_count": 166,
   "id": "6db0ff08",
   "metadata": {},
   "outputs": [],
   "source": [
    "ident = (\n",
    "    \"Stephanie Andrews (jellomoat@gmail.com), \" + \n",
    "    \"scraping for educational purposes\"\n",
    ")\n",
    "headers = {\n",
    "    'User-Agent': 'Mozilla/5.0 (Macintosh; Intel Mac OS X 10_15_7) AppleWebKit/537.36 (KHTML, like Gecko) Chrome/113.0.0.0 Safari/537.36'\n",
    "}"
   ]
  },
  {
   "cell_type": "markdown",
   "id": "0401f628",
   "metadata": {},
   "source": [
    "## Fetching data"
   ]
  },
  {
   "cell_type": "code",
   "execution_count": 449,
   "id": "d670cb24",
   "metadata": {},
   "outputs": [],
   "source": [
    "def get_next_url(count, after_id):\n",
    "    base_url = \"https://www.reddit.com/subreddits/new?limit=100\"\n",
    "\n",
    "    # handle if first page\n",
    "    if not count or not after_id or (count < 1):\n",
    "        print(base_url)\n",
    "        return base_url\n",
    "    else:\n",
    "        return f\"{base_url}&count={count}&after={after_id}\"\n",
    "\n",
    "def fetch_next_page(page_nr, fetch_limit=100, after_id=None):\n",
    "    count = page_nr * fetch_limit\n",
    "    print(after_id)\n",
    "    url = get_next_url(count, after_id)\n",
    "    print(f\"page: {page_nr}\")\n",
    "    print(f\"Fetching {url}\")\n",
    "    try:\n",
    "        return requests.get(\n",
    "            url,\n",
    "            headers=headers\n",
    "        ).text\n",
    "    except:\n",
    "        print(\"No more pages!\")"
   ]
  },
  {
   "cell_type": "code",
   "execution_count": 450,
   "id": "36aed56c",
   "metadata": {},
   "outputs": [
    {
     "name": "stdout",
     "output_type": "stream",
     "text": [
      "None\n",
      "https://www.reddit.com/subreddits/new?limit=100\n",
      "page: 0\n",
      "Fetching https://www.reddit.com/subreddits/new?limit=100\n"
     ]
    }
   ],
   "source": [
    "page_nr = 0\n",
    "html = fetch_next_page(page_nr)"
   ]
  },
  {
   "cell_type": "code",
   "execution_count": 451,
   "id": "08fccd42",
   "metadata": {
    "scrolled": false
   },
   "outputs": [],
   "source": [
    "# html"
   ]
  },
  {
   "cell_type": "markdown",
   "id": "63a831dd",
   "metadata": {},
   "source": [
    "## Exploring the data..."
   ]
  },
  {
   "cell_type": "code",
   "execution_count": 452,
   "id": "1773d617",
   "metadata": {},
   "outputs": [
    {
     "data": {
      "text/plain": [
       "<title>subreddits</title>"
      ]
     },
     "execution_count": 452,
     "metadata": {},
     "output_type": "execute_result"
    }
   ],
   "source": [
    "# dom = lxml.html.fromstring(html)\n",
    "soup = BeautifulSoup(html, \"lxml\")\n",
    "soup.title"
   ]
  },
  {
   "cell_type": "code",
   "execution_count": 453,
   "id": "67bb79c4",
   "metadata": {},
   "outputs": [
    {
     "data": {
      "text/plain": [
       "100"
      ]
     },
     "execution_count": 453,
     "metadata": {},
     "output_type": "execute_result"
    }
   ],
   "source": [
    "# r_els = soup.cssselect(\"div > #siteTable\")[0].cssselect(\"div > .subreddit\")\n",
    "# r_els = soup.find(\"div\", id=\"siteTable\").find_all(\"div\", attrs={\"class\": \"subreddit\"})\n",
    "# r_els = soup.select_one(\"div[id=siteTable]\").find_all(\"div\", attrs={\"class\": \"subreddit\"})\n",
    "r_els = soup.select(\"#siteTable > div.subreddit\")\n",
    "\n",
    "len(r_els)"
   ]
  },
  {
   "cell_type": "code",
   "execution_count": 454,
   "id": "b26cd0c1",
   "metadata": {},
   "outputs": [
    {
     "data": {
      "text/plain": [
       "<div class=\"thing id-t5_8rbxpq odd subreddit\" data-fullname=\"t5_8rbxpq\" data-gildings=\"0\" data-type=\"subreddit\" data-whitelist-status=\"\" id=\"thing_t5_8rbxpq\" onclick=\"click_thing(this)\"><p class=\"parent\"></p><div class=\"midcol\"><span class=\"fancy-toggle-button subscribe-button toggle\" data-sr_name=\"BypassingTheMatrix\" style=\"\"><a class=\"option active add login-required\" href=\"#\" tabindex=\"100\">join</a><a class=\"option remove\" href=\"#\">leave</a></span></div><div class=\"entry unvoted\"><p class=\"titlerow\"><a class=\"title\" href=\"https://www.reddit.com/r/BypassingTheMatrix/\">r/BypassingTheMatrix: BypassingTheMatrix</a></p><p class=\"tagline\"><span class=\"score dislikes\" title=\"0\"><span class=\"number\">0</span> <span class=\"word\">subscribers</span></span><span class=\"score unvoted\" title=\"1\"><span class=\"number\">1</span> <span class=\"word\">subscriber</span></span><span class=\"score likes\" title=\"2\"><span class=\"number\">2</span> <span class=\"word\">subscribers</span></span>, a community for 1 minute</p><ul class=\"flat-list buttons\"><li class=\"report-button login-required\"><a class=\"reportbtn access-required\" data-event-action=\"report\" href=\"javascript:void(0)\">report</a></li></ul><div class=\"reportform report-t5_8rbxpq\"></div></div><div class=\"child\"></div><div class=\"clearleft\"></div></div>"
      ]
     },
     "execution_count": 454,
     "metadata": {},
     "output_type": "execute_result"
    }
   ],
   "source": [
    "# lxml.html.tostring(r_els[0])\n",
    "r_els[0]"
   ]
  },
  {
   "cell_type": "code",
   "execution_count": 455,
   "id": "5e7d876f",
   "metadata": {},
   "outputs": [
    {
     "data": {
      "text/plain": [
       "'joinleaver/BypassingTheMatrix: BypassingTheMatrix0 subscribers1 subscriber2 subscribers, a community for 1 minutereport'"
      ]
     },
     "execution_count": 455,
     "metadata": {},
     "output_type": "execute_result"
    }
   ],
   "source": [
    "# all text for a single subreddit element, incl children\n",
    "# r_els[0].text_content()\n",
    "r_els[0].text"
   ]
  },
  {
   "cell_type": "code",
   "execution_count": 456,
   "id": "59ef1329",
   "metadata": {},
   "outputs": [
    {
     "data": {
      "text/plain": [
       "['r/BypassingTheMatrix: BypassingTheMatrix0 subscribers1 subscriber2 subscribers, a community for 1 minu',\n",
       " 'r/HDSpiderManVersenow2: Where Can I Watch Spider Man Across The Spider Verse Free Online For Reddit?Universal Pictures! Here’s options for downloading or watching Spider-Man: Across the Spider-Verse streaming the full 𝓂𝑜𝓋𝒾𝑒 online for free on 123𝓂𝑜𝓋𝒾𝑒s & Reddit including where to watch Universal Pictures’ 𝓂𝑜𝓋𝒾𝑒 at home. Is Spider-Man: Across the Spider-Verse 2023 available to stream? Is watching Spider-Man: Across the Spider-Verse on Disney Plus, HBO Max, Netflix or Amazon Prime? Yes we have found an authentic streaming option /\\n\\n0 subscribers1 subscriber2 subscribers, a community for 1 minu',\n",
       " 'r/Ritam1: Ritam10 subscribers1 subscriber2 subscribers, a community for 1 minu']"
      ]
     },
     "execution_count": 456,
     "metadata": {},
     "output_type": "execute_result"
    }
   ],
   "source": [
    "# all text for all subreddits on page\n",
    "# text_content = [r.text_content().lstrip(\"joinleave\").rstrip(\"report\") for r in r_els]\n",
    "text_content = [r.text.lstrip(\"joinleave\").rstrip(\"report\") for r in r_els]\n",
    "text_content[:3]"
   ]
  },
  {
   "cell_type": "markdown",
   "id": "18826334",
   "metadata": {},
   "source": [
    "## Parsing the data"
   ]
  },
  {
   "cell_type": "code",
   "execution_count": 466,
   "id": "2488e66a",
   "metadata": {},
   "outputs": [
    {
     "name": "stdout",
     "output_type": "stream",
     "text": [
      "<div class=\"thing id-t5_8rbxpq odd subreddit\" data-fullname=\"t5_8rbxpq\" data-gildings=\"0\" data-type=\"subreddit\" data-whitelist-status=\"\" id=\"thing_t5_8rbxpq\" onclick=\"click_thing(this)\"><p class=\"parent\"></p><div class=\"midcol\"><span class=\"fancy-toggle-button subscribe-button toggle\" data-sr_name=\"BypassingTheMatrix\" style=\"\"><a class=\"option active add login-required\" href=\"#\" tabindex=\"100\">join</a><a class=\"option remove\" href=\"#\">leave</a></span></div><div class=\"entry unvoted\"><p class=\"titlerow\"><a class=\"title\" href=\"https://www.reddit.com/r/BypassingTheMatrix/\">r/BypassingTheMatrix: BypassingTheMatrix</a></p><p class=\"tagline\"><span class=\"score dislikes\" title=\"0\"><span class=\"number\">0</span> <span class=\"word\">subscribers</span></span><span class=\"score unvoted\" title=\"1\"><span class=\"number\">1</span> <span class=\"word\">subscriber</span></span><span class=\"score likes\" title=\"2\"><span class=\"number\">2</span> <span class=\"word\">subscribers</span></span>, a community for 1 minute</p><ul class=\"flat-list buttons\"><li class=\"report-button login-required\"><a class=\"reportbtn access-required\" data-event-action=\"report\" href=\"javascript:void(0)\">report</a></li></ul><div class=\"reportform report-t5_8rbxpq\"></div></div><div class=\"child\"></div><div class=\"clearleft\"></div></div>\n"
     ]
    }
   ],
   "source": [
    "from datetime import datetime\n",
    "\n",
    "def get_all_desc(desc_elements_list):\n",
    "    if len(desc_elements_list) > 0:\n",
    "        return \" \".join([el.text for el in desc_elements_list])\n",
    "    else:\n",
    "        \"\"\n",
    "\n",
    "def parse_and_add_to_df(els_list, core_df):\n",
    "    search_str = re.compile(r\"a community for (.*)report\")\n",
    "    parsed_subs_list = []\n",
    "\n",
    "    for r in els_list:\n",
    "        sub_data = {\n",
    "        \"name\": r.select_one(\".titlerow\").text.split(\":\")[0],\n",
    "        \"desc\": get_all_desc(r.select(\"div.md > p\")),\n",
    "        \"sub_age_tup\": (re.search(search_str, r.text).group(0) \\\n",
    "            .rstrip(\"report\").lstrip(\"a community for \").split()),\n",
    "        \"page_id\": r.get(\"id\").lstrip(\"thing_\"),\n",
    "        \"num_subscribers\": r.select_one(\"p.tagline > span.unvoted > span.number\").text,\n",
    "        \"dt_retrieved\": datetime.now()\n",
    "        }\n",
    "        sub_data[\"age_num\"] = sub_data[\"sub_age_tup\"][0]\n",
    "        sub_data[\"age_word\"] = sub_data[\"sub_age_tup\"][1]\n",
    "        sub_data.pop(\"sub_age_tup\")\n",
    "        parsed_subs_list.append(sub_data)\n",
    "\n",
    "#         print(f\"name: {sub_data['name']}\")\n",
    "#         print(f\"age: {sub_data['subs_num']} {sub_data['subs_word']}\")\n",
    "#         print(f\"desc: {sub_data['desc']}\")\n",
    "#         print(sub_data[\"page_id\"])\n",
    "#         print(\"****\")\n",
    "\n",
    "#     print(parsed_subs_list)\n",
    "    return pd.concat([df, pd.DataFrame(parsed_subs_list)], ignore_index=True)\n",
    "\n",
    "df = pd.DataFrame()\n",
    "print(r_els[0])\n",
    "df = parse_and_add_to_df(r_els, df)"
   ]
  },
  {
   "cell_type": "code",
   "execution_count": 467,
   "id": "4892b34c",
   "metadata": {},
   "outputs": [
    {
     "data": {
      "text/html": [
       "<div>\n",
       "<style scoped>\n",
       "    .dataframe tbody tr th:only-of-type {\n",
       "        vertical-align: middle;\n",
       "    }\n",
       "\n",
       "    .dataframe tbody tr th {\n",
       "        vertical-align: top;\n",
       "    }\n",
       "\n",
       "    .dataframe thead th {\n",
       "        text-align: right;\n",
       "    }\n",
       "</style>\n",
       "<table border=\"1\" class=\"dataframe\">\n",
       "  <thead>\n",
       "    <tr style=\"text-align: right;\">\n",
       "      <th></th>\n",
       "      <th>name</th>\n",
       "      <th>desc</th>\n",
       "      <th>page_id</th>\n",
       "      <th>num_subscribers</th>\n",
       "      <th>dt_retrieved</th>\n",
       "      <th>age_num</th>\n",
       "      <th>age_word</th>\n",
       "    </tr>\n",
       "  </thead>\n",
       "  <tbody>\n",
       "    <tr>\n",
       "      <th>1</th>\n",
       "      <td>r/HDSpiderManVersenow2</td>\n",
       "      <td>Universal Pictures! Here’s options for downloa...</td>\n",
       "      <td>5_8rbxn4</td>\n",
       "      <td>1</td>\n",
       "      <td>2023-07-04 15:53:37.845443</td>\n",
       "      <td>1</td>\n",
       "      <td>minu</td>\n",
       "    </tr>\n",
       "    <tr>\n",
       "      <th>13</th>\n",
       "      <td>r/averager3dditor</td>\n",
       "      <td>A place to post redditors that try incredibly ...</td>\n",
       "      <td>5_8rbwid</td>\n",
       "      <td>1</td>\n",
       "      <td>2023-07-04 15:53:37.854934</td>\n",
       "      <td>5</td>\n",
       "      <td>minutes</td>\n",
       "    </tr>\n",
       "    <tr>\n",
       "      <th>14</th>\n",
       "      <td>r/ana_mia_support</td>\n",
       "      <td>This is a support sub for those struggling wit...</td>\n",
       "      <td>5_8rbwd1</td>\n",
       "      <td>1</td>\n",
       "      <td>2023-07-04 15:53:37.855685</td>\n",
       "      <td>5</td>\n",
       "      <td>minutes</td>\n",
       "    </tr>\n",
       "    <tr>\n",
       "      <th>15</th>\n",
       "      <td>r/found140percentbanana</td>\n",
       "      <td>The other silly banana man.</td>\n",
       "      <td>5_8rbw69</td>\n",
       "      <td>1</td>\n",
       "      <td>2023-07-04 15:53:37.856294</td>\n",
       "      <td>6</td>\n",
       "      <td>minutes</td>\n",
       "    </tr>\n",
       "    <tr>\n",
       "      <th>21</th>\n",
       "      <td>r/BreakfastVideos</td>\n",
       "      <td>/r/mealtimevideos but open to submissions</td>\n",
       "      <td>5_8rbvo8</td>\n",
       "      <td>1</td>\n",
       "      <td>2023-07-04 15:53:37.858866</td>\n",
       "      <td>8</td>\n",
       "      <td>minutes</td>\n",
       "    </tr>\n",
       "    <tr>\n",
       "      <th>22</th>\n",
       "      <td>r/RussiaUkraineWars</td>\n",
       "      <td>This is a Subreddit that was created for every...</td>\n",
       "      <td>5_8rbvhi</td>\n",
       "      <td>1</td>\n",
       "      <td>2023-07-04 15:53:37.859321</td>\n",
       "      <td>8</td>\n",
       "      <td>minutes</td>\n",
       "    </tr>\n",
       "    <tr>\n",
       "      <th>23</th>\n",
       "      <td>r/Guaira</td>\n",
       "      <td>Guaíra é um município brasileiro localizado no...</td>\n",
       "      <td>5_8rbvg2</td>\n",
       "      <td>1</td>\n",
       "      <td>2023-07-04 15:53:37.859725</td>\n",
       "      <td>8</td>\n",
       "      <td>minutes</td>\n",
       "    </tr>\n",
       "    <tr>\n",
       "      <th>30</th>\n",
       "      <td>r/RenfieldHdFRe</td>\n",
       "      <td>Dracula Film! Here are options for downloading...</td>\n",
       "      <td>5_8rbucj</td>\n",
       "      <td>1</td>\n",
       "      <td>2023-07-04 15:53:37.862447</td>\n",
       "      <td>12</td>\n",
       "      <td>minutes</td>\n",
       "    </tr>\n",
       "    <tr>\n",
       "      <th>33</th>\n",
       "      <td>r/TiktokCreativityBeta</td>\n",
       "      <td>Ask Eachother For Help About Creativity Progra...</td>\n",
       "      <td>5_8rbtsp</td>\n",
       "      <td>1</td>\n",
       "      <td>2023-07-04 15:53:37.863508</td>\n",
       "      <td>14</td>\n",
       "      <td>minutes</td>\n",
       "    </tr>\n",
       "    <tr>\n",
       "      <th>37</th>\n",
       "      <td>r/WiseWot</td>\n",
       "      <td>WiseWot provide you with well-researched infor...</td>\n",
       "      <td>5_8rbtlo</td>\n",
       "      <td>1</td>\n",
       "      <td>2023-07-04 15:53:37.864915</td>\n",
       "      <td>15</td>\n",
       "      <td>minutes</td>\n",
       "    </tr>\n",
       "    <tr>\n",
       "      <th>39</th>\n",
       "      <td>r/redditisahellhole</td>\n",
       "      <td>We love reddit! We love mods! We love admins!</td>\n",
       "      <td>5_8rbth9</td>\n",
       "      <td>1</td>\n",
       "      <td>2023-07-04 15:53:37.865780</td>\n",
       "      <td>15</td>\n",
       "      <td>minutes</td>\n",
       "    </tr>\n",
       "    <tr>\n",
       "      <th>49</th>\n",
       "      <td>r/FoundKhromatyk</td>\n",
       "      <td>For those people that found the cringe teen ac...</td>\n",
       "      <td>5_8rbsf6</td>\n",
       "      <td>1</td>\n",
       "      <td>2023-07-04 15:53:37.869621</td>\n",
       "      <td>19</td>\n",
       "      <td>minutes</td>\n",
       "    </tr>\n",
       "    <tr>\n",
       "      <th>51</th>\n",
       "      <td>r/acontere</td>\n",
       "      <td>Regarder À contre-sens 𝗦treming VF (VOSTFR) Gr...</td>\n",
       "      <td>5_8rbsaq</td>\n",
       "      <td>1</td>\n",
       "      <td>2023-07-04 15:53:37.870444</td>\n",
       "      <td>19</td>\n",
       "      <td>minutes</td>\n",
       "    </tr>\n",
       "    <tr>\n",
       "      <th>52</th>\n",
       "      <td>r/camophile</td>\n",
       "      <td>A place to post your favorite camo patterns, u...</td>\n",
       "      <td>5_8rbs6e</td>\n",
       "      <td>1</td>\n",
       "      <td>2023-07-04 15:53:37.870813</td>\n",
       "      <td>19</td>\n",
       "      <td>minutes</td>\n",
       "    </tr>\n",
       "    <tr>\n",
       "      <th>54</th>\n",
       "      <td>r/AMAZINGKITKAT</td>\n",
       "      <td>My community will be packed with post that peo...</td>\n",
       "      <td>5_8rbrax</td>\n",
       "      <td>1</td>\n",
       "      <td>2023-07-04 15:53:37.871691</td>\n",
       "      <td>23</td>\n",
       "      <td>minutes</td>\n",
       "    </tr>\n",
       "    <tr>\n",
       "      <th>60</th>\n",
       "      <td>r/BuyViagra</td>\n",
       "      <td>Buy Viagra Generic | \\nBuy Brand Viagra | \\nBu...</td>\n",
       "      <td>5_8rbqjg</td>\n",
       "      <td>1</td>\n",
       "      <td>2023-07-04 15:53:37.874021</td>\n",
       "      <td>25</td>\n",
       "      <td>minutes</td>\n",
       "    </tr>\n",
       "    <tr>\n",
       "      <th>65</th>\n",
       "      <td>r/Scream6NowHdFre</td>\n",
       "      <td>Scream VI movie on movies4hd! Are you looking ...</td>\n",
       "      <td>5_8rbq1i</td>\n",
       "      <td>1</td>\n",
       "      <td>2023-07-04 15:53:37.876072</td>\n",
       "      <td>27</td>\n",
       "      <td>minutes</td>\n",
       "    </tr>\n",
       "    <tr>\n",
       "      <th>67</th>\n",
       "      <td>r/unseasonedoritos</td>\n",
       "      <td>share your spotify playlists</td>\n",
       "      <td>5_8rbpxk</td>\n",
       "      <td>1</td>\n",
       "      <td>2023-07-04 15:53:37.876863</td>\n",
       "      <td>28</td>\n",
       "      <td>minutes</td>\n",
       "    </tr>\n",
       "    <tr>\n",
       "      <th>70</th>\n",
       "      <td>r/HDSpiderManVerse3</td>\n",
       "      <td>Universal Pictures! Here’s options for downloa...</td>\n",
       "      <td>5_8rbpbi</td>\n",
       "      <td>1</td>\n",
       "      <td>2023-07-04 15:53:37.878020</td>\n",
       "      <td>30</td>\n",
       "      <td>minutes</td>\n",
       "    </tr>\n",
       "    <tr>\n",
       "      <th>78</th>\n",
       "      <td>r/rCollegeMice</td>\n",
       "      <td>CollegeMice Known as r CollegeMice on reddit i...</td>\n",
       "      <td>5_8rbnlq</td>\n",
       "      <td>1</td>\n",
       "      <td>2023-07-04 15:53:37.880903</td>\n",
       "      <td>36</td>\n",
       "      <td>minutes</td>\n",
       "    </tr>\n",
       "    <tr>\n",
       "      <th>80</th>\n",
       "      <td>r/PleaseComplainHere</td>\n",
       "      <td>A place to complain</td>\n",
       "      <td>5_8rbn1p</td>\n",
       "      <td>1</td>\n",
       "      <td>2023-07-04 15:53:37.881753</td>\n",
       "      <td>38</td>\n",
       "      <td>minutes</td>\n",
       "    </tr>\n",
       "    <tr>\n",
       "      <th>81</th>\n",
       "      <td>r/IsEvilDeadRisehdfre</td>\n",
       "      <td>Here Option to Downloading or watching Evil De...</td>\n",
       "      <td>5_8rbmzk</td>\n",
       "      <td>1</td>\n",
       "      <td>2023-07-04 15:53:37.882174</td>\n",
       "      <td>38</td>\n",
       "      <td>minutes</td>\n",
       "    </tr>\n",
       "    <tr>\n",
       "      <th>82</th>\n",
       "      <td>r/Mangaoshinoko</td>\n",
       "      <td>This community is for those who want to talk a...</td>\n",
       "      <td>5_8rbmfy</td>\n",
       "      <td>1</td>\n",
       "      <td>2023-07-04 15:53:37.882683</td>\n",
       "      <td>40</td>\n",
       "      <td>minutes</td>\n",
       "    </tr>\n",
       "    <tr>\n",
       "      <th>84</th>\n",
       "      <td>r/thesoundhdq</td>\n",
       "      <td>Watch Sound of Freedom Online For Free Streami...</td>\n",
       "      <td>5_8rbm8v</td>\n",
       "      <td>1</td>\n",
       "      <td>2023-07-04 15:53:37.883563</td>\n",
       "      <td>41</td>\n",
       "      <td>minutes</td>\n",
       "    </tr>\n",
       "    <tr>\n",
       "      <th>88</th>\n",
       "      <td>r/UFC290Liv</td>\n",
       "      <td>UFC 290 Fight Live .UFC 290: Alexander Volkano...</td>\n",
       "      <td>5_8rblnx</td>\n",
       "      <td>1</td>\n",
       "      <td>2023-07-04 15:53:37.885153</td>\n",
       "      <td>43</td>\n",
       "      <td>minutes</td>\n",
       "    </tr>\n",
       "    <tr>\n",
       "      <th>96</th>\n",
       "      <td>r/baltimoreisgarbage</td>\n",
       "      <td>Baltimore is horrific, avoid it before you lea...</td>\n",
       "      <td>5_8rbk1q</td>\n",
       "      <td>1</td>\n",
       "      <td>2023-07-04 15:53:37.888167</td>\n",
       "      <td>49</td>\n",
       "      <td>minutes</td>\n",
       "    </tr>\n",
       "    <tr>\n",
       "      <th>97</th>\n",
       "      <td>r/keling</td>\n",
       "      <td>Borak pasal Malaysia most racist things</td>\n",
       "      <td>5_8rbk0f</td>\n",
       "      <td>1</td>\n",
       "      <td>2023-07-04 15:53:37.888743</td>\n",
       "      <td>49</td>\n",
       "      <td>minutes</td>\n",
       "    </tr>\n",
       "  </tbody>\n",
       "</table>\n",
       "</div>"
      ],
      "text/plain": [
       "                       name  \\\n",
       "1    r/HDSpiderManVersenow2   \n",
       "13        r/averager3dditor   \n",
       "14        r/ana_mia_support   \n",
       "15  r/found140percentbanana   \n",
       "21        r/BreakfastVideos   \n",
       "22      r/RussiaUkraineWars   \n",
       "23                 r/Guaira   \n",
       "30          r/RenfieldHdFRe   \n",
       "33   r/TiktokCreativityBeta   \n",
       "37                r/WiseWot   \n",
       "39      r/redditisahellhole   \n",
       "49         r/FoundKhromatyk   \n",
       "51               r/acontere   \n",
       "52              r/camophile   \n",
       "54          r/AMAZINGKITKAT   \n",
       "60              r/BuyViagra   \n",
       "65        r/Scream6NowHdFre   \n",
       "67       r/unseasonedoritos   \n",
       "70      r/HDSpiderManVerse3   \n",
       "78           r/rCollegeMice   \n",
       "80     r/PleaseComplainHere   \n",
       "81    r/IsEvilDeadRisehdfre   \n",
       "82          r/Mangaoshinoko   \n",
       "84            r/thesoundhdq   \n",
       "88              r/UFC290Liv   \n",
       "96     r/baltimoreisgarbage   \n",
       "97                 r/keling   \n",
       "\n",
       "                                                 desc   page_id  \\\n",
       "1   Universal Pictures! Here’s options for downloa...  5_8rbxn4   \n",
       "13  A place to post redditors that try incredibly ...  5_8rbwid   \n",
       "14  This is a support sub for those struggling wit...  5_8rbwd1   \n",
       "15                        The other silly banana man.  5_8rbw69   \n",
       "21          /r/mealtimevideos but open to submissions  5_8rbvo8   \n",
       "22  This is a Subreddit that was created for every...  5_8rbvhi   \n",
       "23  Guaíra é um município brasileiro localizado no...  5_8rbvg2   \n",
       "30  Dracula Film! Here are options for downloading...  5_8rbucj   \n",
       "33  Ask Eachother For Help About Creativity Progra...  5_8rbtsp   \n",
       "37  WiseWot provide you with well-researched infor...  5_8rbtlo   \n",
       "39      We love reddit! We love mods! We love admins!  5_8rbth9   \n",
       "49  For those people that found the cringe teen ac...  5_8rbsf6   \n",
       "51  Regarder À contre-sens 𝗦treming VF (VOSTFR) Gr...  5_8rbsaq   \n",
       "52  A place to post your favorite camo patterns, u...  5_8rbs6e   \n",
       "54  My community will be packed with post that peo...  5_8rbrax   \n",
       "60  Buy Viagra Generic | \\nBuy Brand Viagra | \\nBu...  5_8rbqjg   \n",
       "65  Scream VI movie on movies4hd! Are you looking ...  5_8rbq1i   \n",
       "67                       share your spotify playlists  5_8rbpxk   \n",
       "70  Universal Pictures! Here’s options for downloa...  5_8rbpbi   \n",
       "78  CollegeMice Known as r CollegeMice on reddit i...  5_8rbnlq   \n",
       "80                                A place to complain  5_8rbn1p   \n",
       "81  Here Option to Downloading or watching Evil De...  5_8rbmzk   \n",
       "82  This community is for those who want to talk a...  5_8rbmfy   \n",
       "84  Watch Sound of Freedom Online For Free Streami...  5_8rbm8v   \n",
       "88  UFC 290 Fight Live .UFC 290: Alexander Volkano...  5_8rblnx   \n",
       "96  Baltimore is horrific, avoid it before you lea...  5_8rbk1q   \n",
       "97            Borak pasal Malaysia most racist things  5_8rbk0f   \n",
       "\n",
       "   num_subscribers               dt_retrieved age_num age_word  \n",
       "1                1 2023-07-04 15:53:37.845443       1     minu  \n",
       "13               1 2023-07-04 15:53:37.854934       5  minutes  \n",
       "14               1 2023-07-04 15:53:37.855685       5  minutes  \n",
       "15               1 2023-07-04 15:53:37.856294       6  minutes  \n",
       "21               1 2023-07-04 15:53:37.858866       8  minutes  \n",
       "22               1 2023-07-04 15:53:37.859321       8  minutes  \n",
       "23               1 2023-07-04 15:53:37.859725       8  minutes  \n",
       "30               1 2023-07-04 15:53:37.862447      12  minutes  \n",
       "33               1 2023-07-04 15:53:37.863508      14  minutes  \n",
       "37               1 2023-07-04 15:53:37.864915      15  minutes  \n",
       "39               1 2023-07-04 15:53:37.865780      15  minutes  \n",
       "49               1 2023-07-04 15:53:37.869621      19  minutes  \n",
       "51               1 2023-07-04 15:53:37.870444      19  minutes  \n",
       "52               1 2023-07-04 15:53:37.870813      19  minutes  \n",
       "54               1 2023-07-04 15:53:37.871691      23  minutes  \n",
       "60               1 2023-07-04 15:53:37.874021      25  minutes  \n",
       "65               1 2023-07-04 15:53:37.876072      27  minutes  \n",
       "67               1 2023-07-04 15:53:37.876863      28  minutes  \n",
       "70               1 2023-07-04 15:53:37.878020      30  minutes  \n",
       "78               1 2023-07-04 15:53:37.880903      36  minutes  \n",
       "80               1 2023-07-04 15:53:37.881753      38  minutes  \n",
       "81               1 2023-07-04 15:53:37.882174      38  minutes  \n",
       "82               1 2023-07-04 15:53:37.882683      40  minutes  \n",
       "84               1 2023-07-04 15:53:37.883563      41  minutes  \n",
       "88               1 2023-07-04 15:53:37.885153      43  minutes  \n",
       "96               1 2023-07-04 15:53:37.888167      49  minutes  \n",
       "97               1 2023-07-04 15:53:37.888743      49  minutes  "
      ]
     },
     "execution_count": 467,
     "metadata": {},
     "output_type": "execute_result"
    }
   ],
   "source": [
    "# number of records with desc\n",
    "df[~df[\"desc\"].isna()]"
   ]
  },
  {
   "cell_type": "code",
   "execution_count": 468,
   "id": "9b4bcc40",
   "metadata": {},
   "outputs": [
    {
     "data": {
      "text/plain": [
       "age_word\n",
       "minutes    97\n",
       "minu        3\n",
       "Name: count, dtype: int64"
      ]
     },
     "execution_count": 468,
     "metadata": {},
     "output_type": "execute_result"
    }
   ],
   "source": [
    "# FIX: this truncates subs word erroneously sometimes, eg \"minu\"\n",
    "df[\"age_word\"].value_counts()"
   ]
  },
  {
   "cell_type": "markdown",
   "id": "2581827b",
   "metadata": {},
   "source": [
    "## Get next page"
   ]
  },
  {
   "cell_type": "code",
   "execution_count": 469,
   "id": "0d83679f",
   "metadata": {},
   "outputs": [
    {
     "name": "stdout",
     "output_type": "stream",
     "text": [
      "Fetching page 1\n",
      "Fetching page 2\n",
      "Fetching page 2\n",
      "Fetching page 3\n"
     ]
    }
   ],
   "source": [
    "from time import sleep\n",
    "\n",
    "for i in range(3):\n",
    "    print(\"Fetching page \" + str(i + 1))\n",
    "    sleep(1)"
   ]
  },
  {
   "cell_type": "code",
   "execution_count": 470,
   "id": "cc0861ae",
   "metadata": {},
   "outputs": [
    {
     "data": {
      "text/plain": [
       "'https://www.reddit.com/subreddits/new?limit=100&count=100&after=t5_8r8ktl'"
      ]
     },
     "execution_count": 470,
     "metadata": {},
     "output_type": "execute_result"
    }
   ],
   "source": [
    "get_next_url(100, \"t5_8r8ktl\")\n",
    "# https://www.reddit.com/subreddits/new?count=25&after=t5_8r8ktl"
   ]
  },
  {
   "cell_type": "code",
   "execution_count": 471,
   "id": "3616b78e",
   "metadata": {},
   "outputs": [
    {
     "data": {
      "text/plain": [
       "99    5_8rbjja\n",
       "Name: page_id, dtype: object"
      ]
     },
     "execution_count": 471,
     "metadata": {},
     "output_type": "execute_result"
    }
   ],
   "source": [
    "df.loc[df[\"dt_retrieved\"] == df[\"dt_retrieved\"].max()][\"page_id\"]"
   ]
  },
  {
   "cell_type": "code",
   "execution_count": 472,
   "id": "184ffcec",
   "metadata": {},
   "outputs": [
    {
     "data": {
      "text/plain": [
       "'5_8rbjja'"
      ]
     },
     "execution_count": 472,
     "metadata": {},
     "output_type": "execute_result"
    }
   ],
   "source": [
    "last_page_id = df.loc[df[\"dt_retrieved\"] == df[\"dt_retrieved\"].max()][\"page_id\"].values[0] \\\n",
    "    if (len(df) > 1) else None\n",
    "last_page_id"
   ]
  },
  {
   "cell_type": "code",
   "execution_count": 473,
   "id": "86abf877",
   "metadata": {
    "scrolled": true
   },
   "outputs": [
    {
     "name": "stdout",
     "output_type": "stream",
     "text": [
      "last page id => None\n",
      "None\n",
      "https://www.reddit.com/subreddits/new?limit=100\n",
      "page: 0\n",
      "Fetching https://www.reddit.com/subreddits/new?limit=100\n",
      "<title>subreddits</title>\n",
      "last page id => 5_8rbvg2\n",
      "5_8rbvg2\n",
      "page: 1\n",
      "Fetching https://www.reddit.com/subreddits/new?limit=100&count=100&after=5_8rbvg2\n",
      "<title>subreddits</title>\n",
      "last page id => 5_8rbvg2\n",
      "5_8rbvg2\n",
      "page: 2\n",
      "Fetching https://www.reddit.com/subreddits/new?limit=100&count=200&after=5_8rbvg2\n",
      "<title>subreddits</title>\n"
     ]
    }
   ],
   "source": [
    "# setup\n",
    "core_df = pd.DataFrame()\n",
    "result_limit = 100\n",
    "\n",
    "# fetch each page\n",
    "# if last resultset returned less than the limit (100), stop fetching\n",
    "for page_nr in range(3): # swap to while loop after\n",
    "    last_page_id = core_df.loc[core_df[\"dt_retrieved\"] == core_df[\"dt_retrieved\"].max()][\"page_id\"].values[0] \\\n",
    "        if (len(core_df) > 1) else None\n",
    "    print(f\"last page id => {last_page_id}\")\n",
    "    html = fetch_next_page(page_nr, result_limit, last_page_id)\n",
    "    sleep(2)\n",
    "\n",
    "    soup = BeautifulSoup(html, \"lxml\")\n",
    "    print(soup.title)\n",
    "\n",
    "    # parse each page, add to df\n",
    "    r_els = soup.select(\"#siteTable > div.subreddit\")\n",
    "    core_df = parse_and_add_to_df(r_els, core_df)\n",
    "    sleep(2)\n",
    "    if len(r_els) < 25:\n",
    "        print(len(r_els))\n",
    "        break"
   ]
  },
  {
   "cell_type": "code",
   "execution_count": null,
   "id": "0fdccbca",
   "metadata": {},
   "outputs": [],
   "source": []
  }
 ],
 "metadata": {
  "kernelspec": {
   "display_name": "Python 3 (ipykernel)",
   "language": "python",
   "name": "python3"
  },
  "language_info": {
   "codemirror_mode": {
    "name": "ipython",
    "version": 3
   },
   "file_extension": ".py",
   "mimetype": "text/x-python",
   "name": "python",
   "nbconvert_exporter": "python",
   "pygments_lexer": "ipython3",
   "version": "3.10.11"
  }
 },
 "nbformat": 4,
 "nbformat_minor": 5
}
