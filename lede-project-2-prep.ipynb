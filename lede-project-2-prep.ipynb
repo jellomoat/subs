{
 "cells": [
  {
   "cell_type": "code",
   "execution_count": 51,
   "id": "a1dfc264",
   "metadata": {},
   "outputs": [],
   "source": [
    "import lxml.html\n",
    "import pandas as pd\n",
    "import re\n",
    "import requests\n",
    "from bs4 import BeautifulSoup"
   ]
  },
  {
   "cell_type": "markdown",
   "id": "cd2d5df3",
   "metadata": {},
   "source": [
    "## Setup"
   ]
  },
  {
   "cell_type": "code",
   "execution_count": 8,
   "id": "6db0ff08",
   "metadata": {},
   "outputs": [],
   "source": [
    "base_url = \"https://www.reddit.com/subreddits/new\"\n",
    "ident = (\n",
    "    \"Stephanie Andrews (jellomoat@gmail.com), \" + \n",
    "    \"scraping for educational purposes\"\n",
    ")\n",
    "headers = {\n",
    "    'User-Agent': 'Mozilla/5.0 (Macintosh; Intel Mac OS X 10_15_7) AppleWebKit/537.36 (KHTML, like Gecko) Chrome/113.0.0.0 Safari/537.36'\n",
    "}"
   ]
  },
  {
   "cell_type": "markdown",
   "id": "0401f628",
   "metadata": {},
   "source": [
    "## Fetching data"
   ]
  },
  {
   "cell_type": "code",
   "execution_count": 9,
   "id": "d670cb24",
   "metadata": {},
   "outputs": [],
   "source": [
    "def get_next_url(count, after_id):\n",
    "    if not count:\n",
    "        return base_url\n",
    "    else:\n",
    "        return f\"{base_url}?count={count}&after={after_id}\"\n",
    "\n",
    "def fetch_next_page(page_nr, after_id=None):\n",
    "    print(f\"page: {page_nr}\")\n",
    "    count = (page_nr - 1) * 25\n",
    "    url = get_next_url(count, after_id)\n",
    "    try:\n",
    "        return requests.get(\n",
    "            url,\n",
    "            headers=headers\n",
    "        ).text\n",
    "    except:\n",
    "        print(\"No more pages!\")"
   ]
  },
  {
   "cell_type": "code",
   "execution_count": 10,
   "id": "36aed56c",
   "metadata": {},
   "outputs": [
    {
     "name": "stdout",
     "output_type": "stream",
     "text": [
      "page: 0\n"
     ]
    }
   ],
   "source": [
    "page_nr = 0\n",
    "html = fetch_next_page(page_nr)"
   ]
  },
  {
   "cell_type": "code",
   "execution_count": null,
   "id": "08fccd42",
   "metadata": {},
   "outputs": [],
   "source": []
  },
  {
   "cell_type": "markdown",
   "id": "63a831dd",
   "metadata": {},
   "source": [
    "## Exploring the data..."
   ]
  },
  {
   "cell_type": "code",
   "execution_count": 11,
   "id": "1773d617",
   "metadata": {},
   "outputs": [],
   "source": [
    "dom = lxml.html.fromstring(html)"
   ]
  },
  {
   "cell_type": "code",
   "execution_count": 12,
   "id": "67bb79c4",
   "metadata": {},
   "outputs": [],
   "source": [
    "r_els = dom.cssselect(\"div > #siteTable\")[0].cssselect(\"div > .subreddit\")"
   ]
  },
  {
   "cell_type": "code",
   "execution_count": 13,
   "id": "b26cd0c1",
   "metadata": {},
   "outputs": [
    {
     "data": {
      "text/plain": [
       "b'<div class=\" thing id-t5_8r8mya odd  subreddit \" id=\"thing_t5_8r8mya\" onclick=\"click_thing(this)\" data-fullname=\"t5_8r8mya\" data-type=\"subreddit\" data-gildings=\"0\" data-whitelist-status=\"\"><p class=\"parent\"></p><div class=\"midcol\"><span class=\"fancy-toggle-button subscribe-button toggle\" style=\"\" data-sr_name=\"everythingeverskies\"><a class=\"option active add login-required\" href=\"#\" tabindex=\"100\">join</a><a class=\"option remove\" href=\"#\">leave</a></span></div><div class=\"entry unvoted\"><p class=\"titlerow\"><a href=\"https://www.reddit.com/r/everythingeverskies/\" class=\"title\">r/everythingeverskies: everythingeverskies</a></p><p class=\"tagline\"><span class=\"score dislikes\" title=\"0\"><span class=\"number\">0</span> <span class=\"word\">subscribers</span></span><span class=\"score unvoted\" title=\"1\"><span class=\"number\">1</span> <span class=\"word\">subscriber</span></span><span class=\"score likes\" title=\"2\"><span class=\"number\">2</span> <span class=\"word\">subscribers</span></span>, a community for 1 minute</p><ul class=\"flat-list buttons\"><li class=\"report-button login-required\"><a href=\"javascript:void(0)\" class=\"reportbtn access-required\" data-event-action=\"report\">report</a></li></ul><div class=\"reportform report-t5_8r8mya\"></div></div><div class=\"child\"></div><div class=\"clearleft\"></div></div>'"
      ]
     },
     "execution_count": 13,
     "metadata": {},
     "output_type": "execute_result"
    }
   ],
   "source": [
    "lxml.html.tostring(r_els[0])"
   ]
  },
  {
   "cell_type": "code",
   "execution_count": 14,
   "id": "5e7d876f",
   "metadata": {},
   "outputs": [
    {
     "data": {
      "text/plain": [
       "'joinleaver/everythingeverskies: everythingeverskies0 subscribers1 subscriber2 subscribers, a community for 1 minutereport'"
      ]
     },
     "execution_count": 14,
     "metadata": {},
     "output_type": "execute_result"
    }
   ],
   "source": [
    "# all text for a single subreddit element, incl children\n",
    "r_els[0].text_content()"
   ]
  },
  {
   "cell_type": "code",
   "execution_count": 15,
   "id": "59ef1329",
   "metadata": {},
   "outputs": [
    {
     "data": {
      "text/plain": [
       "['r/everythingeverskies: everythingeverskies0 subscribers1 subscriber2 subscribers, a community for 1 minu',\n",
       " 'r/GHNowatHome: GHNowatHome0 subscribers1 subscriber2 subscribers, a community for 1 minu',\n",
       " 'r/eircgazer_world: eircgazer_world0 subscribers1 subscriber2 subscribers, a community for 1 minu']"
      ]
     },
     "execution_count": 15,
     "metadata": {},
     "output_type": "execute_result"
    }
   ],
   "source": [
    "# all text for all subreddits on page\n",
    "text_content = [r.text_content().lstrip(\"joinleave\").rstrip(\"report\") for r in r_els]\n",
    "text_content[:3]"
   ]
  },
  {
   "cell_type": "markdown",
   "id": "18826334",
   "metadata": {},
   "source": [
    "## Parsing the data"
   ]
  },
  {
   "cell_type": "code",
   "execution_count": 64,
   "id": "2488e66a",
   "metadata": {},
   "outputs": [],
   "source": [
    "from datetime import datetime\n",
    "\n",
    "def get_all_desc(desc_elements_list):\n",
    "    if not desc_elements_list:\n",
    "        return \"\"\n",
    "    else:\n",
    "        return \" \".join([el.text_content() for el in desc_elements_list])\n",
    "\n",
    "search_str = re.compile(r\"a community for (.*)report\")\n",
    "\n",
    "parsed_subs_list = []\n",
    "\n",
    "for r in r_els:\n",
    "    # print((re.search(search_str, r.text_content())).group(0).rstrip(\"report\").lstrip(\"a community for \"))\n",
    "    sub_data = {\n",
    "    \"name\": r.cssselect(\"p.titlerow > a\")[0].text_content(),\n",
    "    \"desc\": get_all_desc(r.cssselect(\"div.md > p\")),\n",
    "    \"sub_age_tup\": (re.search(search_str, r.text_content())).group(0) \\\n",
    "        .rstrip(\"report\").lstrip(\"a community for \").split(),\n",
    "    \"page_id\": r.get(\"id\").lstrip(\"thing_\"),\n",
    "    \"dt_retrieved\": datetime.now()\n",
    "    }    \n",
    "    sub_data[\"subs_num\"] = sub_data[\"sub_age_tup\"][0]\n",
    "    sub_data[\"subs_word\"] = sub_data[\"sub_age_tup\"][1]\n",
    "    sub_data.pop(\"sub_age_tup\")\n",
    "    parsed_subs_list.append(sub_data)\n",
    "#     print(f\"page id: {sub_data['page_id']}\")\n",
    "#     print(f\"name: {sub_data['name']}\")\n",
    "#     print(f\"desc: {sub_data['desc']}\")\n",
    "#     print(f\"age: {sub_data['subs_num']} {sub_data['subs_word']}\")\n",
    "#     print(f\"{sub_data['subs_word']}: {sub_data['subs_num']}\")\n",
    "#     print(\"****\")\n",
    "\n",
    "# print(parsed_subs_list)\n",
    "    \n",
    "df = pd.DataFrame(parsed_subs_list)\n"
   ]
  },
  {
   "cell_type": "code",
   "execution_count": 61,
   "id": "4892b34c",
   "metadata": {},
   "outputs": [
    {
     "data": {
      "text/html": [
       "<div>\n",
       "<style scoped>\n",
       "    .dataframe tbody tr th:only-of-type {\n",
       "        vertical-align: middle;\n",
       "    }\n",
       "\n",
       "    .dataframe tbody tr th {\n",
       "        vertical-align: top;\n",
       "    }\n",
       "\n",
       "    .dataframe thead th {\n",
       "        text-align: right;\n",
       "    }\n",
       "</style>\n",
       "<table border=\"1\" class=\"dataframe\">\n",
       "  <thead>\n",
       "    <tr style=\"text-align: right;\">\n",
       "      <th></th>\n",
       "      <th>name</th>\n",
       "      <th>desc</th>\n",
       "      <th>page_id</th>\n",
       "      <th>dt_retrieved</th>\n",
       "      <th>subs_num</th>\n",
       "      <th>subs_word</th>\n",
       "    </tr>\n",
       "  </thead>\n",
       "  <tbody>\n",
       "    <tr>\n",
       "      <th>0</th>\n",
       "      <td>r/everythingeverskies: everythingeverskies</td>\n",
       "      <td></td>\n",
       "      <td>5_8r8mya</td>\n",
       "      <td>2023-07-04 08:35:02.139974</td>\n",
       "      <td>1</td>\n",
       "      <td>minu</td>\n",
       "    </tr>\n",
       "    <tr>\n",
       "      <th>1</th>\n",
       "      <td>r/GHNowatHome: GHNowatHome</td>\n",
       "      <td></td>\n",
       "      <td>5_8r8mw3</td>\n",
       "      <td>2023-07-04 08:35:02.140347</td>\n",
       "      <td>1</td>\n",
       "      <td>minu</td>\n",
       "    </tr>\n",
       "    <tr>\n",
       "      <th>2</th>\n",
       "      <td>r/eircgazer_world: eircgazer_world</td>\n",
       "      <td></td>\n",
       "      <td>5_8r8mqn</td>\n",
       "      <td>2023-07-04 08:35:02.140659</td>\n",
       "      <td>1</td>\n",
       "      <td>minu</td>\n",
       "    </tr>\n",
       "    <tr>\n",
       "      <th>3</th>\n",
       "      <td>r/helIokitty: helIokitty</td>\n",
       "      <td></td>\n",
       "      <td>5_8r8mif</td>\n",
       "      <td>2023-07-04 08:35:02.140972</td>\n",
       "      <td>2</td>\n",
       "      <td>minutes</td>\n",
       "    </tr>\n",
       "    <tr>\n",
       "      <th>4</th>\n",
       "      <td>r/Ninecholas: Ninecholas</td>\n",
       "      <td></td>\n",
       "      <td>5_8r8mfz</td>\n",
       "      <td>2023-07-04 08:35:02.141347</td>\n",
       "      <td>2</td>\n",
       "      <td>minutes</td>\n",
       "    </tr>\n",
       "    <tr>\n",
       "      <th>5</th>\n",
       "      <td>r/veidmainiai: veidmainiai</td>\n",
       "      <td></td>\n",
       "      <td>5_8r8maw</td>\n",
       "      <td>2023-07-04 08:35:02.141687</td>\n",
       "      <td>3</td>\n",
       "      <td>minutes</td>\n",
       "    </tr>\n",
       "    <tr>\n",
       "      <th>6</th>\n",
       "      <td>r/MinecraftButGameplay: MinecraftButGameplay</td>\n",
       "      <td></td>\n",
       "      <td>5_8r8m9k</td>\n",
       "      <td>2023-07-04 08:35:02.142045</td>\n",
       "      <td>3</td>\n",
       "      <td>minutes</td>\n",
       "    </tr>\n",
       "    <tr>\n",
       "      <th>7</th>\n",
       "      <td>r/latetjapublictest: latetjapublictest</td>\n",
       "      <td></td>\n",
       "      <td>5_8r8m97</td>\n",
       "      <td>2023-07-04 08:35:02.142514</td>\n",
       "      <td>3</td>\n",
       "      <td>minutes</td>\n",
       "    </tr>\n",
       "    <tr>\n",
       "      <th>8</th>\n",
       "      <td>r/lifestyleupdates: lifestyleupdates</td>\n",
       "      <td></td>\n",
       "      <td>5_8r8m4g</td>\n",
       "      <td>2023-07-04 08:35:02.142972</td>\n",
       "      <td>3</td>\n",
       "      <td>minutes</td>\n",
       "    </tr>\n",
       "    <tr>\n",
       "      <th>9</th>\n",
       "      <td>r/Moyennementenrageant: Moyennementenrageant</td>\n",
       "      <td></td>\n",
       "      <td>5_8r8m1r</td>\n",
       "      <td>2023-07-04 08:35:02.143427</td>\n",
       "      <td>4</td>\n",
       "      <td>minutes</td>\n",
       "    </tr>\n",
       "    <tr>\n",
       "      <th>10</th>\n",
       "      <td>r/Childho1: Childho1</td>\n",
       "      <td></td>\n",
       "      <td>5_8r8lw7</td>\n",
       "      <td>2023-07-04 08:35:02.143875</td>\n",
       "      <td>4</td>\n",
       "      <td>minutes</td>\n",
       "    </tr>\n",
       "    <tr>\n",
       "      <th>11</th>\n",
       "      <td>r/SventaiKunst: SventaiKunst</td>\n",
       "      <td></td>\n",
       "      <td>5_8r8lmk</td>\n",
       "      <td>2023-07-04 08:35:02.144322</td>\n",
       "      <td>5</td>\n",
       "      <td>minutes</td>\n",
       "    </tr>\n",
       "    <tr>\n",
       "      <th>12</th>\n",
       "      <td>r/RowlandAcademics: RowlandAcademics</td>\n",
       "      <td></td>\n",
       "      <td>5_8r8lhc</td>\n",
       "      <td>2023-07-04 08:35:02.144770</td>\n",
       "      <td>6</td>\n",
       "      <td>minutes</td>\n",
       "    </tr>\n",
       "    <tr>\n",
       "      <th>13</th>\n",
       "      <td>r/airfryerenthusiast: airfryerenthusiast</td>\n",
       "      <td>A place for air fryer enthusiasts, share your ...</td>\n",
       "      <td>5_8r8lgv</td>\n",
       "      <td>2023-07-04 08:35:02.145253</td>\n",
       "      <td>6</td>\n",
       "      <td>minutes</td>\n",
       "    </tr>\n",
       "    <tr>\n",
       "      <th>14</th>\n",
       "      <td>r/membershipsites: Mmembership sites</td>\n",
       "      <td>A subreddit to discuss the various ways one ca...</td>\n",
       "      <td>5_8r8lfa</td>\n",
       "      <td>2023-07-04 08:35:02.145739</td>\n",
       "      <td>6</td>\n",
       "      <td>minutes</td>\n",
       "    </tr>\n",
       "    <tr>\n",
       "      <th>15</th>\n",
       "      <td>r/Street_P1: Street_P1</td>\n",
       "      <td></td>\n",
       "      <td>5_8r8ldu</td>\n",
       "      <td>2023-07-04 08:35:02.146054</td>\n",
       "      <td>6</td>\n",
       "      <td>minutes</td>\n",
       "    </tr>\n",
       "    <tr>\n",
       "      <th>16</th>\n",
       "      <td>r/Salesempire: Salesempire</td>\n",
       "      <td></td>\n",
       "      <td>5_8r8l5w</td>\n",
       "      <td>2023-07-04 08:35:02.146346</td>\n",
       "      <td>7</td>\n",
       "      <td>minutes</td>\n",
       "    </tr>\n",
       "    <tr>\n",
       "      <th>17</th>\n",
       "      <td>r/DragonDustDIYSupply: DragonDustDIYSupply</td>\n",
       "      <td></td>\n",
       "      <td>5_8r8kwo</td>\n",
       "      <td>2023-07-04 08:35:02.146637</td>\n",
       "      <td>8</td>\n",
       "      <td>minutes</td>\n",
       "    </tr>\n",
       "    <tr>\n",
       "      <th>18</th>\n",
       "      <td>r/minecraft_hacking: minecraft_hacking</td>\n",
       "      <td>Welcome to r/minecraft_hacking, the ultimate h...</td>\n",
       "      <td>5_8r8kuh</td>\n",
       "      <td>2023-07-04 08:35:02.146967</td>\n",
       "      <td>8</td>\n",
       "      <td>minutes</td>\n",
       "    </tr>\n",
       "    <tr>\n",
       "      <th>19</th>\n",
       "      <td>r/honestsoundtakes: honestsoundtakes</td>\n",
       "      <td></td>\n",
       "      <td>5_8r8ktl</td>\n",
       "      <td>2023-07-04 08:35:02.147262</td>\n",
       "      <td>8</td>\n",
       "      <td>minutes</td>\n",
       "    </tr>\n",
       "  </tbody>\n",
       "</table>\n",
       "</div>"
      ],
      "text/plain": [
       "                                            name  \\\n",
       "0     r/everythingeverskies: everythingeverskies   \n",
       "1                     r/GHNowatHome: GHNowatHome   \n",
       "2             r/eircgazer_world: eircgazer_world   \n",
       "3                       r/helIokitty: helIokitty   \n",
       "4                       r/Ninecholas: Ninecholas   \n",
       "5                     r/veidmainiai: veidmainiai   \n",
       "6   r/MinecraftButGameplay: MinecraftButGameplay   \n",
       "7         r/latetjapublictest: latetjapublictest   \n",
       "8           r/lifestyleupdates: lifestyleupdates   \n",
       "9   r/Moyennementenrageant: Moyennementenrageant   \n",
       "10                          r/Childho1: Childho1   \n",
       "11                  r/SventaiKunst: SventaiKunst   \n",
       "12          r/RowlandAcademics: RowlandAcademics   \n",
       "13      r/airfryerenthusiast: airfryerenthusiast   \n",
       "14          r/membershipsites: Mmembership sites   \n",
       "15                        r/Street_P1: Street_P1   \n",
       "16                    r/Salesempire: Salesempire   \n",
       "17    r/DragonDustDIYSupply: DragonDustDIYSupply   \n",
       "18        r/minecraft_hacking: minecraft_hacking   \n",
       "19          r/honestsoundtakes: honestsoundtakes   \n",
       "\n",
       "                                                 desc   page_id  \\\n",
       "0                                                      5_8r8mya   \n",
       "1                                                      5_8r8mw3   \n",
       "2                                                      5_8r8mqn   \n",
       "3                                                      5_8r8mif   \n",
       "4                                                      5_8r8mfz   \n",
       "5                                                      5_8r8maw   \n",
       "6                                                      5_8r8m9k   \n",
       "7                                                      5_8r8m97   \n",
       "8                                                      5_8r8m4g   \n",
       "9                                                      5_8r8m1r   \n",
       "10                                                     5_8r8lw7   \n",
       "11                                                     5_8r8lmk   \n",
       "12                                                     5_8r8lhc   \n",
       "13  A place for air fryer enthusiasts, share your ...  5_8r8lgv   \n",
       "14  A subreddit to discuss the various ways one ca...  5_8r8lfa   \n",
       "15                                                     5_8r8ldu   \n",
       "16                                                     5_8r8l5w   \n",
       "17                                                     5_8r8kwo   \n",
       "18  Welcome to r/minecraft_hacking, the ultimate h...  5_8r8kuh   \n",
       "19                                                     5_8r8ktl   \n",
       "\n",
       "                 dt_retrieved subs_num subs_word  \n",
       "0  2023-07-04 08:35:02.139974        1      minu  \n",
       "1  2023-07-04 08:35:02.140347        1      minu  \n",
       "2  2023-07-04 08:35:02.140659        1      minu  \n",
       "3  2023-07-04 08:35:02.140972        2   minutes  \n",
       "4  2023-07-04 08:35:02.141347        2   minutes  \n",
       "5  2023-07-04 08:35:02.141687        3   minutes  \n",
       "6  2023-07-04 08:35:02.142045        3   minutes  \n",
       "7  2023-07-04 08:35:02.142514        3   minutes  \n",
       "8  2023-07-04 08:35:02.142972        3   minutes  \n",
       "9  2023-07-04 08:35:02.143427        4   minutes  \n",
       "10 2023-07-04 08:35:02.143875        4   minutes  \n",
       "11 2023-07-04 08:35:02.144322        5   minutes  \n",
       "12 2023-07-04 08:35:02.144770        6   minutes  \n",
       "13 2023-07-04 08:35:02.145253        6   minutes  \n",
       "14 2023-07-04 08:35:02.145739        6   minutes  \n",
       "15 2023-07-04 08:35:02.146054        6   minutes  \n",
       "16 2023-07-04 08:35:02.146346        7   minutes  \n",
       "17 2023-07-04 08:35:02.146637        8   minutes  \n",
       "18 2023-07-04 08:35:02.146967        8   minutes  \n",
       "19 2023-07-04 08:35:02.147262        8   minutes  "
      ]
     },
     "execution_count": 61,
     "metadata": {},
     "output_type": "execute_result"
    }
   ],
   "source": [
    "df.head(20)"
   ]
  },
  {
   "cell_type": "code",
   "execution_count": null,
   "id": "a0b19505",
   "metadata": {},
   "outputs": [],
   "source": []
  }
 ],
 "metadata": {
  "kernelspec": {
   "display_name": "Python 3 (ipykernel)",
   "language": "python",
   "name": "python3"
  },
  "language_info": {
   "codemirror_mode": {
    "name": "ipython",
    "version": 3
   },
   "file_extension": ".py",
   "mimetype": "text/x-python",
   "name": "python",
   "nbconvert_exporter": "python",
   "pygments_lexer": "ipython3",
   "version": "3.10.11"
  }
 },
 "nbformat": 4,
 "nbformat_minor": 5
}
