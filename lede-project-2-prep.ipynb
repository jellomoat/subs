{
 "cells": [
  {
   "cell_type": "code",
   "execution_count": 206,
   "id": "a1dfc264",
   "metadata": {},
   "outputs": [],
   "source": [
    "import lxml.html\n",
    "import pandas as pd\n",
    "import re\n",
    "import requests\n",
    "\n",
    "from bs4 import BeautifulSoup\n",
    "from datetime import datetime, timedelta\n",
    "from pathlib import Path\n",
    "from time import sleep"
   ]
  },
  {
   "cell_type": "markdown",
   "id": "cd2d5df3",
   "metadata": {},
   "source": [
    "## Setup"
   ]
  },
  {
   "cell_type": "code",
   "execution_count": 244,
   "id": "6db0ff08",
   "metadata": {},
   "outputs": [],
   "source": [
    "ident = (\n",
    "    \"Stephanie Andrews (jellomoat@gmail.com), \" + \n",
    "    \"scraping for educational purposes\"\n",
    ")\n",
    "headers = {\n",
    "    'User-Agent': 'Mozilla/5.0 (Macintosh; Intel Mac OS X 10_15_7) AppleWebKit/537.36 (KHTML, like Gecko) Chrome/113.0.0.0 Safari/537.36'\n",
    "}"
   ]
  },
  {
   "cell_type": "markdown",
   "id": "0401f628",
   "metadata": {},
   "source": [
    "## Fetching and Cacheing functions"
   ]
  },
  {
   "cell_type": "code",
   "execution_count": 245,
   "id": "d670cb24",
   "metadata": {},
   "outputs": [],
   "source": [
    "def get_next_url(count, fetch_limit=100, after_id=None):\n",
    "    base_url = f\"https://www.reddit.com/subreddits/popular/?limit={fetch_limit}&show=all\"\n",
    "\n",
    "    # handle if first page\n",
    "    if not after_id:\n",
    "        print(base_url)\n",
    "        return base_url\n",
    "    else:\n",
    "        return f\"{base_url}&count={count}&after=t{after_id}\"\n",
    "\n",
    "def fetch_next_page(page_nr, count, fetch_limit=100, after_id=None):\n",
    "    url = get_next_url(count, fetch_limit, after_id)\n",
    "    print(f\"page: {page_nr}\")\n",
    "    print(f\"Fetching {url}\")\n",
    "    try:\n",
    "        return requests.get(\n",
    "            url,\n",
    "            headers=headers\n",
    "        )\n",
    "    except:\n",
    "        print(\"No more pages!\")"
   ]
  },
  {
   "cell_type": "code",
   "execution_count": 246,
   "id": "36aed56c",
   "metadata": {},
   "outputs": [],
   "source": [
    "# page_nr = 0\n",
    "# html = fetch_next_page(page_nr)\n",
    "\n",
    "def fetch_pages(start_pg, end_pg, core_df):\n",
    "    # setup\n",
    "    pages_dir = \"raw-pages-070723/\"\n",
    "    result_limit = 100\n",
    "    results_count = 0\n",
    "\n",
    "    # create or get fetch log\n",
    "    log = Path(pages_dir + \"log.csv\")\n",
    "    # create log df\n",
    "    log_df = pd.read_csv(log)\n",
    "\n",
    "    if log.exists():\n",
    "        print(\"log exists\")\n",
    "    else:\n",
    "        with open(log, \"w\") as l:\n",
    "            print(\"test\")\n",
    "            l.write(\"fetch_dt, url, page_nr\\n\")\n",
    "\n",
    "    # fetch each page\n",
    "    # if last resultset returned less than the limit, stop fetching\n",
    "    for page_nr in range(start_pg, end_pg): # swap to while loop after\n",
    "        dest = Path(pages_dir + str(page_nr) + \".html\")\n",
    "\n",
    "        if dest.exists(): # load it from file\n",
    "            print(f\"Already have {dest}, loading!\")\n",
    "            file = open(dest, \"r\")\n",
    "            page_html = file.read()\n",
    "            file.close()\n",
    "\n",
    "        else: # fetch it!\n",
    "            last_page_id = core_df.loc[core_df[\"dt_retrieved\"] == core_df[\"dt_retrieved\"].max()][\"page_id\"].values[0] \\\n",
    "                if (len(core_df) > 1) else None\n",
    "            print(f\"page #{page_nr}: last page id => {last_page_id}\")\n",
    "            page_resp = fetch_next_page(page_nr, results_count, fetch_limit=100, after_id=last_page_id)\n",
    "            page_html = page_resp.text\n",
    "            sleep(2)\n",
    "\n",
    "            # save to file\n",
    "            with open(dest, \"w\") as f:\n",
    "                f.write(page_html)\n",
    "\n",
    "            with open(log, \"a\") as l:\n",
    "                fetch_dt = datetime.now()\n",
    "                url = page_resp.url\n",
    "                l.write(\",\".join([str(fetch_dt), url, str(page_nr)]) + \"\\n\")\n",
    "\n",
    "        # parse each page, add to df\n",
    "        soup = BeautifulSoup(page_html, \"lxml\")\n",
    "        print(soup.title)\n",
    "\n",
    "        r_els = soup.select(\"#siteTable > div.subreddit\")\n",
    "        core_df = parse_and_add_to_df(r_els, core_df, page_nr, log_df[\"fetch_dt\"][page_nr])\n",
    "        last_count = len(r_els)\n",
    "        print(f\"last_count: {last_count}\")\n",
    "        results_count += last_count\n",
    "        print(f\"results_count: {results_count}\")\n",
    "        print(f\"df count: {len(core_df)}\")\n",
    "        if len(r_els) < 10:\n",
    "            print(len(r_els))\n",
    "            break\n",
    "    return core_df"
   ]
  },
  {
   "cell_type": "markdown",
   "id": "18826334",
   "metadata": {},
   "source": [
    "## Parsing functions"
   ]
  },
  {
   "cell_type": "code",
   "execution_count": 247,
   "id": "91a4a30e",
   "metadata": {},
   "outputs": [],
   "source": [
    "def parse_and_add_to_df(els_list, start_df, page_nr, fetch_dt):\n",
    "    print(f\"start count: {len(start_df)}\")\n",
    "    search_str = re.compile(r\"a community for (.*)report\")\n",
    "    parsed_subs_list = []\n",
    "\n",
    "    for r in els_list:\n",
    "        sub_data = {\n",
    "        \"name\": r.select_one(\".titlerow\").text.split(\":\")[0],\n",
    "        \"desc\": get_all_desc(r.select(\"div.md > p\")),\n",
    "        \"sub_age_tup\": (re.search(search_str, r.text).group(1).split()),\n",
    "        \"page_id\": r.get(\"id\").lstrip(\"thing_\"),\n",
    "        \"num_subscribers\": r.select_one(\"p.tagline > span.unvoted > span.number\").text,\n",
    "        \"page_nr\": page_nr,\n",
    "        \"date_retrieved\": fetch_dt.split()[0]\n",
    "        }\n",
    "        sub_data[\"age_num\"] = sub_data[\"sub_age_tup\"][0]\n",
    "        sub_data[\"age_word\"] = sub_data[\"sub_age_tup\"][1]\n",
    "        sub_data.pop(\"sub_age_tup\")\n",
    "        parsed_subs_list.append(sub_data)\n",
    "\n",
    "    end_df = pd.concat([start_df, pd.DataFrame(parsed_subs_list)], ignore_index=True)\n",
    "    print(f\"final core_df len: {len(end_df)}\")\n",
    "    return end_df"
   ]
  },
  {
   "cell_type": "code",
   "execution_count": 248,
   "id": "2488e66a",
   "metadata": {},
   "outputs": [],
   "source": [
    "def get_all_desc(desc_elements_list):\n",
    "    if len(desc_elements_list) > 0:\n",
    "        return \" \".join([el.text for el in desc_elements_list])\n",
    "    else:\n",
    "        \"\""
   ]
  },
  {
   "cell_type": "code",
   "execution_count": 264,
   "id": "785a1059",
   "metadata": {},
   "outputs": [],
   "source": [
    "def convert_age_ago_to_created_ts(row):\n",
    "    days_conversion = {\n",
    "        \"year\": 365,\n",
    "        \"month\": 30,\n",
    "        \"day\": 1,\n",
    "        \"hour\": (1/24)\n",
    "    }\n",
    "    days = days_conversion[row[\"age_word\"].rstrip(\"s\")] * int(row[\"age_num\"])\n",
    "    \n",
    "    return datetime.strptime(row[\"date_retrieved\"], \"%Y-%m-%d\") - timedelta(days=days)"
   ]
  },
  {
   "cell_type": "code",
   "execution_count": 265,
   "id": "6318d9a9",
   "metadata": {},
   "outputs": [],
   "source": [
    "# Execute this in final run\n",
    "# core_df[\"created_dt\"] = core_df.apply(lambda x: convert_age_ago_to_created_ts(x).year, axis=1)"
   ]
  },
  {
   "cell_type": "markdown",
   "id": "a77e7d3d",
   "metadata": {},
   "source": [
    "## Get and Parse Data"
   ]
  },
  {
   "cell_type": "code",
   "execution_count": 266,
   "id": "3d32d4cd",
   "metadata": {},
   "outputs": [
    {
     "name": "stdout",
     "output_type": "stream",
     "text": [
      "log exists\n",
      "Already have raw-pages-070723/0.html, loading!\n",
      "<title>subreddits</title>\n",
      "start count: 0\n",
      "final core_df len: 100\n",
      "last_count: 100\n",
      "results_count: 100\n",
      "df count: 100\n",
      "Already have raw-pages-070723/1.html, loading!\n",
      "<title>subreddits</title>\n",
      "start count: 100\n",
      "final core_df len: 200\n",
      "last_count: 100\n",
      "results_count: 200\n",
      "df count: 200\n",
      "Already have raw-pages-070723/2.html, loading!\n",
      "<title>subreddits</title>\n",
      "start count: 200\n",
      "final core_df len: 300\n",
      "last_count: 100\n",
      "results_count: 300\n",
      "df count: 300\n",
      "Already have raw-pages-070723/3.html, loading!\n",
      "<title>subreddits</title>\n",
      "start count: 300\n",
      "final core_df len: 400\n",
      "last_count: 100\n",
      "results_count: 400\n",
      "df count: 400\n",
      "Already have raw-pages-070723/4.html, loading!\n",
      "<title>subreddits</title>\n",
      "start count: 400\n",
      "final core_df len: 500\n",
      "last_count: 100\n",
      "results_count: 500\n",
      "df count: 500\n",
      "Already have raw-pages-070723/5.html, loading!\n",
      "<title>subreddits</title>\n",
      "start count: 500\n",
      "final core_df len: 600\n",
      "last_count: 100\n",
      "results_count: 600\n",
      "df count: 600\n",
      "Already have raw-pages-070723/6.html, loading!\n",
      "<title>subreddits</title>\n",
      "start count: 600\n",
      "final core_df len: 700\n",
      "last_count: 100\n",
      "results_count: 700\n",
      "df count: 700\n",
      "Already have raw-pages-070723/7.html, loading!\n",
      "<title>subreddits</title>\n",
      "start count: 700\n",
      "final core_df len: 800\n",
      "last_count: 100\n",
      "results_count: 800\n",
      "df count: 800\n",
      "Already have raw-pages-070723/8.html, loading!\n",
      "<title>subreddits</title>\n",
      "start count: 800\n",
      "final core_df len: 900\n",
      "last_count: 100\n",
      "results_count: 900\n",
      "df count: 900\n",
      "Already have raw-pages-070723/9.html, loading!\n",
      "<title>subreddits</title>\n",
      "start count: 900\n",
      "final core_df len: 1000\n",
      "last_count: 100\n",
      "results_count: 1000\n",
      "df count: 1000\n",
      "Already have raw-pages-070723/10.html, loading!\n",
      "<title>subreddits</title>\n",
      "start count: 1000\n",
      "final core_df len: 1100\n",
      "last_count: 100\n",
      "results_count: 1100\n",
      "df count: 1100\n",
      "Already have raw-pages-070723/11.html, loading!\n",
      "<title>subreddits</title>\n",
      "start count: 1100\n",
      "final core_df len: 1200\n",
      "last_count: 100\n",
      "results_count: 1200\n",
      "df count: 1200\n",
      "Already have raw-pages-070723/12.html, loading!\n",
      "<title>subreddits</title>\n",
      "start count: 1200\n",
      "final core_df len: 1300\n",
      "last_count: 100\n",
      "results_count: 1300\n",
      "df count: 1300\n",
      "Already have raw-pages-070723/13.html, loading!\n",
      "<title>subreddits</title>\n",
      "start count: 1300\n",
      "final core_df len: 1400\n",
      "last_count: 100\n",
      "results_count: 1400\n",
      "df count: 1400\n",
      "Already have raw-pages-070723/14.html, loading!\n",
      "<title>subreddits</title>\n",
      "start count: 1400\n",
      "final core_df len: 1500\n",
      "last_count: 100\n",
      "results_count: 1500\n",
      "df count: 1500\n",
      "Already have raw-pages-070723/15.html, loading!\n",
      "<title>subreddits</title>\n",
      "start count: 1500\n",
      "final core_df len: 1600\n",
      "last_count: 100\n",
      "results_count: 1600\n",
      "df count: 1600\n",
      "Already have raw-pages-070723/16.html, loading!\n",
      "<title>subreddits</title>\n",
      "start count: 1600\n",
      "final core_df len: 1700\n",
      "last_count: 100\n",
      "results_count: 1700\n",
      "df count: 1700\n",
      "Already have raw-pages-070723/17.html, loading!\n",
      "<title>subreddits</title>\n",
      "start count: 1700\n",
      "final core_df len: 1800\n",
      "last_count: 100\n",
      "results_count: 1800\n",
      "df count: 1800\n",
      "Already have raw-pages-070723/18.html, loading!\n",
      "<title>subreddits</title>\n",
      "start count: 1800\n",
      "final core_df len: 1900\n",
      "last_count: 100\n",
      "results_count: 1900\n",
      "df count: 1900\n",
      "Already have raw-pages-070723/19.html, loading!\n",
      "<title>subreddits</title>\n",
      "start count: 1900\n",
      "final core_df len: 2000\n",
      "last_count: 100\n",
      "results_count: 2000\n",
      "df count: 2000\n",
      "Already have raw-pages-070723/20.html, loading!\n",
      "<title>subreddits</title>\n",
      "start count: 2000\n",
      "final core_df len: 2100\n",
      "last_count: 100\n",
      "results_count: 2100\n",
      "df count: 2100\n",
      "Already have raw-pages-070723/21.html, loading!\n",
      "<title>subreddits</title>\n",
      "start count: 2100\n",
      "final core_df len: 2200\n",
      "last_count: 100\n",
      "results_count: 2200\n",
      "df count: 2200\n",
      "Already have raw-pages-070723/22.html, loading!\n",
      "<title>subreddits</title>\n",
      "start count: 2200\n",
      "final core_df len: 2300\n",
      "last_count: 100\n",
      "results_count: 2300\n",
      "df count: 2300\n",
      "Already have raw-pages-070723/23.html, loading!\n",
      "<title>subreddits</title>\n",
      "start count: 2300\n",
      "final core_df len: 2400\n",
      "last_count: 100\n",
      "results_count: 2400\n",
      "df count: 2400\n",
      "Already have raw-pages-070723/24.html, loading!\n",
      "<title>subreddits</title>\n",
      "start count: 2400\n",
      "final core_df len: 2500\n",
      "last_count: 100\n",
      "results_count: 2500\n",
      "df count: 2500\n",
      "Already have raw-pages-070723/25.html, loading!\n",
      "<title>subreddits</title>\n",
      "start count: 2500\n",
      "final core_df len: 2600\n",
      "last_count: 100\n",
      "results_count: 2600\n",
      "df count: 2600\n",
      "Already have raw-pages-070723/26.html, loading!\n",
      "<title>subreddits</title>\n",
      "start count: 2600\n",
      "final core_df len: 2700\n",
      "last_count: 100\n",
      "results_count: 2700\n",
      "df count: 2700\n",
      "Already have raw-pages-070723/27.html, loading!\n",
      "<title>subreddits</title>\n",
      "start count: 2700\n",
      "final core_df len: 2800\n",
      "last_count: 100\n",
      "results_count: 2800\n",
      "df count: 2800\n",
      "Already have raw-pages-070723/28.html, loading!\n",
      "<title>subreddits</title>\n",
      "start count: 2800\n",
      "final core_df len: 2900\n",
      "last_count: 100\n",
      "results_count: 2900\n",
      "df count: 2900\n",
      "Already have raw-pages-070723/29.html, loading!\n",
      "<title>subreddits</title>\n",
      "start count: 2900\n",
      "final core_df len: 3000\n",
      "last_count: 100\n",
      "results_count: 3000\n",
      "df count: 3000\n",
      "Already have raw-pages-070723/30.html, loading!\n",
      "<title>subreddits</title>\n",
      "start count: 3000\n",
      "final core_df len: 3100\n",
      "last_count: 100\n",
      "results_count: 3100\n",
      "df count: 3100\n",
      "Already have raw-pages-070723/31.html, loading!\n",
      "<title>subreddits</title>\n",
      "start count: 3100\n",
      "final core_df len: 3200\n",
      "last_count: 100\n",
      "results_count: 3200\n",
      "df count: 3200\n",
      "Already have raw-pages-070723/32.html, loading!\n",
      "<title>subreddits</title>\n",
      "start count: 3200\n",
      "final core_df len: 3300\n",
      "last_count: 100\n",
      "results_count: 3300\n",
      "df count: 3300\n",
      "Already have raw-pages-070723/33.html, loading!\n",
      "<title>subreddits</title>\n",
      "start count: 3300\n",
      "final core_df len: 3400\n",
      "last_count: 100\n",
      "results_count: 3400\n",
      "df count: 3400\n",
      "Already have raw-pages-070723/34.html, loading!\n",
      "<title>subreddits</title>\n",
      "start count: 3400\n",
      "final core_df len: 3500\n",
      "last_count: 100\n",
      "results_count: 3500\n",
      "df count: 3500\n",
      "Already have raw-pages-070723/35.html, loading!\n",
      "<title>subreddits</title>\n",
      "start count: 3500\n",
      "final core_df len: 3600\n",
      "last_count: 100\n",
      "results_count: 3600\n",
      "df count: 3600\n",
      "Already have raw-pages-070723/36.html, loading!\n",
      "<title>subreddits</title>\n",
      "start count: 3600\n",
      "final core_df len: 3700\n",
      "last_count: 100\n",
      "results_count: 3700\n",
      "df count: 3700\n",
      "Already have raw-pages-070723/37.html, loading!\n",
      "<title>subreddits</title>\n",
      "start count: 3700\n",
      "final core_df len: 3800\n",
      "last_count: 100\n",
      "results_count: 3800\n",
      "df count: 3800\n",
      "Already have raw-pages-070723/38.html, loading!\n",
      "<title>subreddits</title>\n",
      "start count: 3800\n",
      "final core_df len: 3900\n",
      "last_count: 100\n",
      "results_count: 3900\n",
      "df count: 3900\n",
      "Already have raw-pages-070723/39.html, loading!\n",
      "<title>subreddits</title>\n",
      "start count: 3900\n",
      "final core_df len: 4000\n",
      "last_count: 100\n",
      "results_count: 4000\n",
      "df count: 4000\n",
      "Already have raw-pages-070723/40.html, loading!\n",
      "<title>subreddits</title>\n",
      "start count: 4000\n",
      "final core_df len: 4088\n",
      "last_count: 88\n",
      "results_count: 4088\n",
      "df count: 4088\n",
      "Already have raw-pages-070723/41.html, loading!\n",
      "<title>subreddits</title>\n",
      "start count: 4088\n",
      "final core_df len: 4088\n",
      "last_count: 0\n",
      "results_count: 4088\n",
      "df count: 4088\n",
      "0\n"
     ]
    }
   ],
   "source": [
    "core_df = pd.DataFrame()\n",
    "core_df = fetch_pages(0, 50, core_df)"
   ]
  },
  {
   "cell_type": "code",
   "execution_count": 267,
   "id": "6e375ad9",
   "metadata": {},
   "outputs": [],
   "source": [
    "# core_df = fetch_pages(500, 1000, core_df)"
   ]
  },
  {
   "cell_type": "code",
   "execution_count": 268,
   "id": "d20a5a77",
   "metadata": {},
   "outputs": [],
   "source": [
    "# core_df = fetch_pages(1000, 1250, core_df)"
   ]
  },
  {
   "cell_type": "code",
   "execution_count": 269,
   "id": "4e7aaeec",
   "metadata": {},
   "outputs": [],
   "source": [
    "# core_df = fetch_pages(1250, 1500, core_df)"
   ]
  },
  {
   "cell_type": "code",
   "execution_count": 270,
   "id": "65f96cfe",
   "metadata": {},
   "outputs": [],
   "source": [
    "# core_df = fetch_pages(1500, 1750, core_df)"
   ]
  },
  {
   "cell_type": "code",
   "execution_count": 271,
   "id": "a9e8dec9",
   "metadata": {},
   "outputs": [],
   "source": [
    "# core_df.to_csv(\"./070623_df_0_1499_v2.csv\")"
   ]
  },
  {
   "cell_type": "code",
   "execution_count": 272,
   "id": "08fccd42",
   "metadata": {
    "scrolled": false
   },
   "outputs": [
    {
     "data": {
      "text/plain": [
       "4088"
      ]
     },
     "execution_count": 272,
     "metadata": {},
     "output_type": "execute_result"
    }
   ],
   "source": [
    "len(core_df)\n",
    "# html"
   ]
  },
  {
   "cell_type": "code",
   "execution_count": 273,
   "id": "7cb94fc2",
   "metadata": {},
   "outputs": [
    {
     "data": {
      "text/html": [
       "<div>\n",
       "<style scoped>\n",
       "    .dataframe tbody tr th:only-of-type {\n",
       "        vertical-align: middle;\n",
       "    }\n",
       "\n",
       "    .dataframe tbody tr th {\n",
       "        vertical-align: top;\n",
       "    }\n",
       "\n",
       "    .dataframe thead th {\n",
       "        text-align: right;\n",
       "    }\n",
       "</style>\n",
       "<table border=\"1\" class=\"dataframe\">\n",
       "  <thead>\n",
       "    <tr style=\"text-align: right;\">\n",
       "      <th></th>\n",
       "      <th>name</th>\n",
       "      <th>desc</th>\n",
       "      <th>page_id</th>\n",
       "      <th>num_subscribers</th>\n",
       "      <th>page_nr</th>\n",
       "      <th>date_retrieved</th>\n",
       "      <th>age_num</th>\n",
       "      <th>age_word</th>\n",
       "    </tr>\n",
       "  </thead>\n",
       "  <tbody>\n",
       "    <tr>\n",
       "      <th>0</th>\n",
       "      <td>r/Home</td>\n",
       "      <td>Everything home related: interior design, home...</td>\n",
       "      <td>5_2qs0k</td>\n",
       "      <td>135,237</td>\n",
       "      <td>0</td>\n",
       "      <td>2023-07-07</td>\n",
       "      <td>14</td>\n",
       "      <td>years</td>\n",
       "    </tr>\n",
       "    <tr>\n",
       "      <th>1</th>\n",
       "      <td>r/AskReddit</td>\n",
       "      <td>r/AskReddit is the place to ask and answer tho...</td>\n",
       "      <td>5_2qh1i</td>\n",
       "      <td>41,833,971</td>\n",
       "      <td>0</td>\n",
       "      <td>2023-07-07</td>\n",
       "      <td>15</td>\n",
       "      <td>years</td>\n",
       "    </tr>\n",
       "    <tr>\n",
       "      <th>2</th>\n",
       "      <td>r/mildlyinfuriating</td>\n",
       "      <td>jugkfmghgug</td>\n",
       "      <td>5_2ubgg</td>\n",
       "      <td>5,961,250</td>\n",
       "      <td>0</td>\n",
       "      <td>2023-07-07</td>\n",
       "      <td>11</td>\n",
       "      <td>years</td>\n",
       "    </tr>\n",
       "    <tr>\n",
       "      <th>3</th>\n",
       "      <td>r/facepalm</td>\n",
       "      <td>/r/facepalm has gone private in protest of the...</td>\n",
       "      <td>5_2r5rp</td>\n",
       "      <td>7,469,361</td>\n",
       "      <td>0</td>\n",
       "      <td>2023-07-07</td>\n",
       "      <td>13</td>\n",
       "      <td>years</td>\n",
       "    </tr>\n",
       "    <tr>\n",
       "      <th>4</th>\n",
       "      <td>r/diablo4</td>\n",
       "      <td>Welcome to the un official Diablo 4 subreddit!...</td>\n",
       "      <td>5_2rzx9</td>\n",
       "      <td>746,468</td>\n",
       "      <td>0</td>\n",
       "      <td>2023-07-07</td>\n",
       "      <td>12</td>\n",
       "      <td>years</td>\n",
       "    </tr>\n",
       "  </tbody>\n",
       "</table>\n",
       "</div>"
      ],
      "text/plain": [
       "                  name                                               desc  \\\n",
       "0               r/Home  Everything home related: interior design, home...   \n",
       "1          r/AskReddit  r/AskReddit is the place to ask and answer tho...   \n",
       "2  r/mildlyinfuriating                                        jugkfmghgug   \n",
       "3           r/facepalm  /r/facepalm has gone private in protest of the...   \n",
       "4            r/diablo4  Welcome to the un official Diablo 4 subreddit!...   \n",
       "\n",
       "   page_id num_subscribers  page_nr date_retrieved age_num age_word  \n",
       "0  5_2qs0k         135,237        0     2023-07-07      14    years  \n",
       "1  5_2qh1i      41,833,971        0     2023-07-07      15    years  \n",
       "2  5_2ubgg       5,961,250        0     2023-07-07      11    years  \n",
       "3  5_2r5rp       7,469,361        0     2023-07-07      13    years  \n",
       "4  5_2rzx9         746,468        0     2023-07-07      12    years  "
      ]
     },
     "execution_count": 273,
     "metadata": {},
     "output_type": "execute_result"
    }
   ],
   "source": [
    "core_df.head()"
   ]
  },
  {
   "cell_type": "code",
   "execution_count": 274,
   "id": "0f077a6e",
   "metadata": {},
   "outputs": [],
   "source": [
    "core_df[\"created_dt\"] = core_df.apply(lambda x: convert_age_ago_to_created_ts(x).year, axis=1)"
   ]
  },
  {
   "cell_type": "code",
   "execution_count": 276,
   "id": "64205ec7",
   "metadata": {},
   "outputs": [
    {
     "data": {
      "text/html": [
       "<div>\n",
       "<style scoped>\n",
       "    .dataframe tbody tr th:only-of-type {\n",
       "        vertical-align: middle;\n",
       "    }\n",
       "\n",
       "    .dataframe tbody tr th {\n",
       "        vertical-align: top;\n",
       "    }\n",
       "\n",
       "    .dataframe thead th {\n",
       "        text-align: right;\n",
       "    }\n",
       "</style>\n",
       "<table border=\"1\" class=\"dataframe\">\n",
       "  <thead>\n",
       "    <tr style=\"text-align: right;\">\n",
       "      <th></th>\n",
       "      <th>name</th>\n",
       "      <th>desc</th>\n",
       "      <th>page_id</th>\n",
       "      <th>num_subscribers</th>\n",
       "      <th>page_nr</th>\n",
       "      <th>date_retrieved</th>\n",
       "      <th>age_num</th>\n",
       "      <th>age_word</th>\n",
       "      <th>created_dt</th>\n",
       "    </tr>\n",
       "  </thead>\n",
       "  <tbody>\n",
       "    <tr>\n",
       "      <th>0</th>\n",
       "      <td>r/Home</td>\n",
       "      <td>Everything home related: interior design, home...</td>\n",
       "      <td>5_2qs0k</td>\n",
       "      <td>135,237</td>\n",
       "      <td>0</td>\n",
       "      <td>2023-07-07</td>\n",
       "      <td>14</td>\n",
       "      <td>years</td>\n",
       "      <td>2009</td>\n",
       "    </tr>\n",
       "    <tr>\n",
       "      <th>1</th>\n",
       "      <td>r/AskReddit</td>\n",
       "      <td>r/AskReddit is the place to ask and answer tho...</td>\n",
       "      <td>5_2qh1i</td>\n",
       "      <td>41,833,971</td>\n",
       "      <td>0</td>\n",
       "      <td>2023-07-07</td>\n",
       "      <td>15</td>\n",
       "      <td>years</td>\n",
       "      <td>2008</td>\n",
       "    </tr>\n",
       "    <tr>\n",
       "      <th>2</th>\n",
       "      <td>r/mildlyinfuriating</td>\n",
       "      <td>jugkfmghgug</td>\n",
       "      <td>5_2ubgg</td>\n",
       "      <td>5,961,250</td>\n",
       "      <td>0</td>\n",
       "      <td>2023-07-07</td>\n",
       "      <td>11</td>\n",
       "      <td>years</td>\n",
       "      <td>2012</td>\n",
       "    </tr>\n",
       "    <tr>\n",
       "      <th>3</th>\n",
       "      <td>r/facepalm</td>\n",
       "      <td>/r/facepalm has gone private in protest of the...</td>\n",
       "      <td>5_2r5rp</td>\n",
       "      <td>7,469,361</td>\n",
       "      <td>0</td>\n",
       "      <td>2023-07-07</td>\n",
       "      <td>13</td>\n",
       "      <td>years</td>\n",
       "      <td>2010</td>\n",
       "    </tr>\n",
       "    <tr>\n",
       "      <th>4</th>\n",
       "      <td>r/diablo4</td>\n",
       "      <td>Welcome to the un official Diablo 4 subreddit!...</td>\n",
       "      <td>5_2rzx9</td>\n",
       "      <td>746,468</td>\n",
       "      <td>0</td>\n",
       "      <td>2023-07-07</td>\n",
       "      <td>12</td>\n",
       "      <td>years</td>\n",
       "      <td>2011</td>\n",
       "    </tr>\n",
       "  </tbody>\n",
       "</table>\n",
       "</div>"
      ],
      "text/plain": [
       "                  name                                               desc  \\\n",
       "0               r/Home  Everything home related: interior design, home...   \n",
       "1          r/AskReddit  r/AskReddit is the place to ask and answer tho...   \n",
       "2  r/mildlyinfuriating                                        jugkfmghgug   \n",
       "3           r/facepalm  /r/facepalm has gone private in protest of the...   \n",
       "4            r/diablo4  Welcome to the un official Diablo 4 subreddit!...   \n",
       "\n",
       "   page_id num_subscribers  page_nr date_retrieved age_num age_word  \\\n",
       "0  5_2qs0k         135,237        0     2023-07-07      14    years   \n",
       "1  5_2qh1i      41,833,971        0     2023-07-07      15    years   \n",
       "2  5_2ubgg       5,961,250        0     2023-07-07      11    years   \n",
       "3  5_2r5rp       7,469,361        0     2023-07-07      13    years   \n",
       "4  5_2rzx9         746,468        0     2023-07-07      12    years   \n",
       "\n",
       "   created_dt  \n",
       "0        2009  \n",
       "1        2008  \n",
       "2        2012  \n",
       "3        2010  \n",
       "4        2011  "
      ]
     },
     "execution_count": 276,
     "metadata": {},
     "output_type": "execute_result"
    }
   ],
   "source": [
    "core_df.head()"
   ]
  },
  {
   "cell_type": "code",
   "execution_count": 96,
   "id": "093d94b0",
   "metadata": {},
   "outputs": [],
   "source": [
    "core_df[0:101].to_csv(\"./subreddits_set_070723_dt_top_100.csv\")"
   ]
  },
  {
   "cell_type": "code",
   "execution_count": 97,
   "id": "fbb9974a",
   "metadata": {},
   "outputs": [],
   "source": [
    "core_df[0:1001].to_csv(\"./subreddits_set_070723_dt_top_1000.csv\")"
   ]
  },
  {
   "cell_type": "markdown",
   "id": "63a831dd",
   "metadata": {},
   "source": [
    "## Exploring the data..."
   ]
  },
  {
   "cell_type": "code",
   "execution_count": 185,
   "id": "1773d617",
   "metadata": {},
   "outputs": [
    {
     "name": "stdout",
     "output_type": "stream",
     "text": [
      "https://www.reddit.com/subreddits/popular/?limit=100&show=all\n",
      "page: 0\n",
      "Fetching https://www.reddit.com/subreddits/popular/?limit=100&show=all\n"
     ]
    },
    {
     "data": {
      "text/plain": [
       "<title>subreddits</title>"
      ]
     },
     "execution_count": 185,
     "metadata": {},
     "output_type": "execute_result"
    }
   ],
   "source": [
    "# dom = lxml.html.fromstring(html)\n",
    "html = fetch_next_page(0, 0).text\n",
    "soup = BeautifulSoup(html, \"lxml\")\n",
    "soup.title"
   ]
  },
  {
   "cell_type": "code",
   "execution_count": 186,
   "id": "67bb79c4",
   "metadata": {},
   "outputs": [
    {
     "data": {
      "text/plain": [
       "100"
      ]
     },
     "execution_count": 186,
     "metadata": {},
     "output_type": "execute_result"
    }
   ],
   "source": [
    "# r_els = soup.cssselect(\"div > #siteTable\")[0].cssselect(\"div > .subreddit\")\n",
    "# r_els = soup.find(\"div\", id=\"siteTable\").find_all(\"div\", attrs={\"class\": \"subreddit\"})\n",
    "# r_els = soup.select_one(\"div[id=siteTable]\").find_all(\"div\", attrs={\"class\": \"subreddit\"})\n",
    "r_els = soup.select(\"#siteTable > div.subreddit\")\n",
    "\n",
    "len(r_els)"
   ]
  },
  {
   "cell_type": "code",
   "execution_count": 187,
   "id": "b26cd0c1",
   "metadata": {},
   "outputs": [
    {
     "data": {
      "text/plain": [
       "<div class=\"thing id-t5_2qs0k odd subreddit\" data-fullname=\"t5_2qs0k\" data-gildings=\"0\" data-type=\"subreddit\" data-whitelist-status=\"all_ads\" id=\"thing_t5_2qs0k\" onclick=\"click_thing(this)\"><p class=\"parent\"></p><div class=\"midcol\"><span class=\"fancy-toggle-button subscribe-button toggle\" data-sr_name=\"Home\" style=\"\"><a class=\"option active add login-required\" href=\"#\" tabindex=\"100\">join</a><a class=\"option remove\" href=\"#\">leave</a></span></div><div class=\"entry unvoted\"><p class=\"titlerow\"><a class=\"title\" href=\"https://www.reddit.com/r/Home/\">r/Home: Home</a></p><div class=\"description\"><form action=\"#\" class=\"usertext warn-on-unload\" id=\"form-t5_2qs0kvqa\" onsubmit=\"return post_form(this, 'editusertext')\"><input name=\"thing_id\" type=\"hidden\" value=\"t5_2qs0k\"/><div class=\"usertext-body may-blank-within md-container\"><div class=\"md\"><p>Everything home related: interior design, home improvement, architecture.</p>\n",
       "</div>\n",
       "</div></form></div><p class=\"tagline\"><span class=\"score dislikes\" title=\"135308\"><span class=\"number\">135,308</span> <span class=\"word\">subscribers</span></span><span class=\"score unvoted\" title=\"135309\"><span class=\"number\">135,309</span> <span class=\"word\">subscribers</span></span><span class=\"score likes\" title=\"135310\"><span class=\"number\">135,310</span> <span class=\"word\">subscribers</span></span>, a community for 14 years</p><ul class=\"flat-list buttons\"><li class=\"report-button login-required\"><a class=\"reportbtn access-required\" data-event-action=\"report\" href=\"javascript:void(0)\">report</a></li></ul><div class=\"reportform report-t5_2qs0k\"></div></div><div class=\"child\"></div><div class=\"clearleft\"></div></div>"
      ]
     },
     "execution_count": 187,
     "metadata": {},
     "output_type": "execute_result"
    }
   ],
   "source": [
    "# lxml.html.tostring(r_els[0])\n",
    "r_els[0]"
   ]
  },
  {
   "cell_type": "code",
   "execution_count": 197,
   "id": "5e7d876f",
   "metadata": {},
   "outputs": [
    {
     "data": {
      "text/plain": [
       "'joinleaver/Home: HomeEverything home related: interior design, home improvement, architecture.\\n\\n135,308 subscribers135,309 subscribers135,310 subscribers, a community for 14 yearsreport'"
      ]
     },
     "execution_count": 197,
     "metadata": {},
     "output_type": "execute_result"
    }
   ],
   "source": [
    "# all text for a single subreddit element, incl children\n",
    "# r_els[0].text_content()\n",
    "r_els[0].text"
   ]
  },
  {
   "cell_type": "code",
   "execution_count": 198,
   "id": "59ef1329",
   "metadata": {},
   "outputs": [
    {
     "data": {
      "text/plain": [
       "['r/Home: HomeEverything home related: interior design, home improvement, architecture.\\n\\n135,308 subscribers135,309 subscribers135,310 subscribers, a community for 14 years',\n",
       " 'r/AskReddit: Ask Reddit...r/AskReddit is the place to ask and answer thought-provoking questions.\\n\\n41,836,673 subscribers41,836,674 subscribers41,836,675 subscribers, a community for 15 years']"
      ]
     },
     "execution_count": 198,
     "metadata": {},
     "output_type": "execute_result"
    }
   ],
   "source": [
    "# all text for all subreddits on page, incl children\n",
    "# text_content = [r.text_content().lstrip(\"joinleave\").rstrip(\"report\") for r in r_els]\n",
    "text_content = [r.text.lstrip(\"joinleave\").rstrip(\"report\") for r in r_els]\n",
    "text_content[:2]"
   ]
  },
  {
   "cell_type": "code",
   "execution_count": 199,
   "id": "5c78b1d3",
   "metadata": {},
   "outputs": [
    {
     "name": "stdout",
     "output_type": "stream",
     "text": [
      "start count: 0\n",
      "final core_df len: 100\n"
     ]
    }
   ],
   "source": [
    "test_parsing_df = pd.DataFrame()\n",
    "test_parsing_df = parse_and_add_to_df(r_els, test_parsing_df, page_nr=0)"
   ]
  },
  {
   "cell_type": "code",
   "execution_count": 203,
   "id": "ee01bb86",
   "metadata": {},
   "outputs": [
    {
     "data": {
      "text/html": [
       "<div>\n",
       "<style scoped>\n",
       "    .dataframe tbody tr th:only-of-type {\n",
       "        vertical-align: middle;\n",
       "    }\n",
       "\n",
       "    .dataframe tbody tr th {\n",
       "        vertical-align: top;\n",
       "    }\n",
       "\n",
       "    .dataframe thead th {\n",
       "        text-align: right;\n",
       "    }\n",
       "</style>\n",
       "<table border=\"1\" class=\"dataframe\">\n",
       "  <thead>\n",
       "    <tr style=\"text-align: right;\">\n",
       "      <th></th>\n",
       "      <th>name</th>\n",
       "      <th>desc</th>\n",
       "      <th>page_id</th>\n",
       "      <th>num_subscribers</th>\n",
       "      <th>page_nr</th>\n",
       "      <th>dt_retrieved</th>\n",
       "      <th>age_num</th>\n",
       "      <th>age_word</th>\n",
       "    </tr>\n",
       "  </thead>\n",
       "  <tbody>\n",
       "    <tr>\n",
       "      <th>98</th>\n",
       "      <td>r/FashionReps</td>\n",
       "      <td>Reddit's largest community for the discussion ...</td>\n",
       "      <td>5_31hcv</td>\n",
       "      <td>1,325,116</td>\n",
       "      <td>0</td>\n",
       "      <td>2023-07-07 23:35:05.314047</td>\n",
       "      <td>9</td>\n",
       "      <td>years</td>\n",
       "    </tr>\n",
       "    <tr>\n",
       "      <th>99</th>\n",
       "      <td>r/maybemaybemaybe</td>\n",
       "      <td>For those videos that make you think maybe...</td>\n",
       "      <td>5_38e1l</td>\n",
       "      <td>2,709,200</td>\n",
       "      <td>0</td>\n",
       "      <td>2023-07-07 23:35:05.314374</td>\n",
       "      <td>8</td>\n",
       "      <td>years</td>\n",
       "    </tr>\n",
       "  </tbody>\n",
       "</table>\n",
       "</div>"
      ],
      "text/plain": [
       "                 name                                               desc  \\\n",
       "98      r/FashionReps  Reddit's largest community for the discussion ...   \n",
       "99  r/maybemaybemaybe      For those videos that make you think maybe...   \n",
       "\n",
       "    page_id num_subscribers  page_nr               dt_retrieved age_num  \\\n",
       "98  5_31hcv       1,325,116        0 2023-07-07 23:35:05.314047       9   \n",
       "99  5_38e1l       2,709,200        0 2023-07-07 23:35:05.314374       8   \n",
       "\n",
       "   age_word  \n",
       "98    years  \n",
       "99    years  "
      ]
     },
     "execution_count": 203,
     "metadata": {},
     "output_type": "execute_result"
    }
   ],
   "source": [
    "test_parsing_df.tail(2)"
   ]
  },
  {
   "cell_type": "code",
   "execution_count": 204,
   "id": "47979eeb",
   "metadata": {},
   "outputs": [
    {
     "data": {
      "text/plain": [
       "'5_38e1l'"
      ]
     },
     "execution_count": 204,
     "metadata": {},
     "output_type": "execute_result"
    }
   ],
   "source": [
    "# core_df.loc[core_df[\"dt_retrieved\"] == core_df[\"dt_retrieved\"].max()][\"page_id\"]\n",
    "last_page_id = test_parsing_df.loc[test_parsing_df[\"dt_retrieved\"] == test_parsing_df[\"dt_retrieved\"].max()][\"page_id\"].values[0] \\\n",
    "    if (len(test_parsing_df) > 1) else None\n",
    "last_page_id"
   ]
  },
  {
   "cell_type": "code",
   "execution_count": 205,
   "id": "4892b34c",
   "metadata": {},
   "outputs": [
    {
     "data": {
      "text/html": [
       "<div>\n",
       "<style scoped>\n",
       "    .dataframe tbody tr th:only-of-type {\n",
       "        vertical-align: middle;\n",
       "    }\n",
       "\n",
       "    .dataframe tbody tr th {\n",
       "        vertical-align: top;\n",
       "    }\n",
       "\n",
       "    .dataframe thead th {\n",
       "        text-align: right;\n",
       "    }\n",
       "</style>\n",
       "<table border=\"1\" class=\"dataframe\">\n",
       "  <thead>\n",
       "    <tr style=\"text-align: right;\">\n",
       "      <th></th>\n",
       "      <th>name</th>\n",
       "      <th>desc</th>\n",
       "      <th>page_id</th>\n",
       "      <th>num_subscribers</th>\n",
       "      <th>page_nr</th>\n",
       "      <th>dt_retrieved</th>\n",
       "      <th>age_num</th>\n",
       "      <th>age_word</th>\n",
       "    </tr>\n",
       "  </thead>\n",
       "  <tbody>\n",
       "    <tr>\n",
       "      <th>0</th>\n",
       "      <td>r/Home</td>\n",
       "      <td>Everything home related: interior design, home...</td>\n",
       "      <td>5_2qs0k</td>\n",
       "      <td>135,309</td>\n",
       "      <td>0</td>\n",
       "      <td>2023-07-07 23:35:05.260853</td>\n",
       "      <td>14</td>\n",
       "      <td>years</td>\n",
       "    </tr>\n",
       "    <tr>\n",
       "      <th>1</th>\n",
       "      <td>r/AskReddit</td>\n",
       "      <td>r/AskReddit is the place to ask and answer tho...</td>\n",
       "      <td>5_2qh1i</td>\n",
       "      <td>41,836,674</td>\n",
       "      <td>0</td>\n",
       "      <td>2023-07-07 23:35:05.261666</td>\n",
       "      <td>15</td>\n",
       "      <td>years</td>\n",
       "    </tr>\n",
       "  </tbody>\n",
       "</table>\n",
       "</div>"
      ],
      "text/plain": [
       "          name                                               desc  page_id  \\\n",
       "0       r/Home  Everything home related: interior design, home...  5_2qs0k   \n",
       "1  r/AskReddit  r/AskReddit is the place to ask and answer tho...  5_2qh1i   \n",
       "\n",
       "  num_subscribers  page_nr               dt_retrieved age_num age_word  \n",
       "0         135,309        0 2023-07-07 23:35:05.260853      14    years  \n",
       "1      41,836,674        0 2023-07-07 23:35:05.261666      15    years  "
      ]
     },
     "execution_count": 205,
     "metadata": {},
     "output_type": "execute_result"
    }
   ],
   "source": [
    "# records with desc\n",
    "test_parsing_df[~test_parsing_df[\"desc\"].isna()].head(2)"
   ]
  },
  {
   "cell_type": "code",
   "execution_count": null,
   "id": "06ed8463",
   "metadata": {},
   "outputs": [],
   "source": []
  }
 ],
 "metadata": {
  "kernelspec": {
   "display_name": "Python 3 (ipykernel)",
   "language": "python",
   "name": "python3"
  },
  "language_info": {
   "codemirror_mode": {
    "name": "ipython",
    "version": 3
   },
   "file_extension": ".py",
   "mimetype": "text/x-python",
   "name": "python",
   "nbconvert_exporter": "python",
   "pygments_lexer": "ipython3",
   "version": "3.10.11"
  }
 },
 "nbformat": 4,
 "nbformat_minor": 5
}
