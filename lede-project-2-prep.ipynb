{
 "cells": [
  {
   "cell_type": "code",
   "execution_count": 160,
   "id": "a1dfc264",
   "metadata": {},
   "outputs": [],
   "source": [
    "import lxml.html\n",
    "import pandas as pd\n",
    "import re\n",
    "import requests\n",
    "from bs4 import BeautifulSoup"
   ]
  },
  {
   "cell_type": "markdown",
   "id": "cd2d5df3",
   "metadata": {},
   "source": [
    "## Setup"
   ]
  },
  {
   "cell_type": "code",
   "execution_count": 166,
   "id": "6db0ff08",
   "metadata": {},
   "outputs": [],
   "source": [
    "ident = (\n",
    "    \"Stephanie Andrews (jellomoat@gmail.com), \" + \n",
    "    \"scraping for educational purposes\"\n",
    ")\n",
    "headers = {\n",
    "    'User-Agent': 'Mozilla/5.0 (Macintosh; Intel Mac OS X 10_15_7) AppleWebKit/537.36 (KHTML, like Gecko) Chrome/113.0.0.0 Safari/537.36'\n",
    "}"
   ]
  },
  {
   "cell_type": "markdown",
   "id": "0401f628",
   "metadata": {},
   "source": [
    "## Fetching data"
   ]
  },
  {
   "cell_type": "code",
   "execution_count": 449,
   "id": "d670cb24",
   "metadata": {},
   "outputs": [],
   "source": [
    "def get_next_url(count, after_id):\n",
    "    base_url = \"https://www.reddit.com/subreddits/new?limit=100\"\n",
    "\n",
    "    # handle if first page\n",
    "    if not count or not after_id or (count < 1):\n",
    "        print(base_url)\n",
    "        return base_url\n",
    "    else:\n",
    "        return f\"{base_url}&count={count}&after={after_id}\"\n",
    "\n",
    "def fetch_next_page(page_nr, fetch_limit=100, after_id=None):\n",
    "    count = page_nr * fetch_limit\n",
    "    print(after_id)\n",
    "    url = get_next_url(count, after_id)\n",
    "    print(f\"page: {page_nr}\")\n",
    "    print(f\"Fetching {url}\")\n",
    "    try:\n",
    "        return requests.get(\n",
    "            url,\n",
    "            headers=headers\n",
    "        ).text\n",
    "    except:\n",
    "        print(\"No more pages!\")"
   ]
  },
  {
   "cell_type": "code",
   "execution_count": 450,
   "id": "36aed56c",
   "metadata": {},
   "outputs": [
    {
     "name": "stdout",
     "output_type": "stream",
     "text": [
      "None\n",
      "https://www.reddit.com/subreddits/new?limit=100\n",
      "page: 0\n",
      "Fetching https://www.reddit.com/subreddits/new?limit=100\n"
     ]
    }
   ],
   "source": [
    "page_nr = 0\n",
    "html = fetch_next_page(page_nr)"
   ]
  },
  {
   "cell_type": "code",
   "execution_count": 451,
   "id": "08fccd42",
   "metadata": {
    "scrolled": false
   },
   "outputs": [],
   "source": [
    "# html"
   ]
  },
  {
   "cell_type": "markdown",
   "id": "63a831dd",
   "metadata": {},
   "source": [
    "## Exploring the data..."
   ]
  },
  {
   "cell_type": "code",
   "execution_count": 452,
   "id": "1773d617",
   "metadata": {},
   "outputs": [
    {
     "data": {
      "text/plain": [
       "<title>subreddits</title>"
      ]
     },
     "execution_count": 452,
     "metadata": {},
     "output_type": "execute_result"
    }
   ],
   "source": [
    "# dom = lxml.html.fromstring(html)\n",
    "soup = BeautifulSoup(html, \"lxml\")\n",
    "soup.title"
   ]
  },
  {
   "cell_type": "code",
   "execution_count": 453,
   "id": "67bb79c4",
   "metadata": {},
   "outputs": [
    {
     "data": {
      "text/plain": [
       "100"
      ]
     },
     "execution_count": 453,
     "metadata": {},
     "output_type": "execute_result"
    }
   ],
   "source": [
    "# r_els = soup.cssselect(\"div > #siteTable\")[0].cssselect(\"div > .subreddit\")\n",
    "# r_els = soup.find(\"div\", id=\"siteTable\").find_all(\"div\", attrs={\"class\": \"subreddit\"})\n",
    "# r_els = soup.select_one(\"div[id=siteTable]\").find_all(\"div\", attrs={\"class\": \"subreddit\"})\n",
    "r_els = soup.select(\"#siteTable > div.subreddit\")\n",
    "\n",
    "len(r_els)"
   ]
  },
  {
   "cell_type": "code",
   "execution_count": 454,
   "id": "b26cd0c1",
   "metadata": {},
   "outputs": [
    {
     "data": {
      "text/plain": [
       "<div class=\"thing id-t5_8rbxpq odd subreddit\" data-fullname=\"t5_8rbxpq\" data-gildings=\"0\" data-type=\"subreddit\" data-whitelist-status=\"\" id=\"thing_t5_8rbxpq\" onclick=\"click_thing(this)\"><p class=\"parent\"></p><div class=\"midcol\"><span class=\"fancy-toggle-button subscribe-button toggle\" data-sr_name=\"BypassingTheMatrix\" style=\"\"><a class=\"option active add login-required\" href=\"#\" tabindex=\"100\">join</a><a class=\"option remove\" href=\"#\">leave</a></span></div><div class=\"entry unvoted\"><p class=\"titlerow\"><a class=\"title\" href=\"https://www.reddit.com/r/BypassingTheMatrix/\">r/BypassingTheMatrix: BypassingTheMatrix</a></p><p class=\"tagline\"><span class=\"score dislikes\" title=\"0\"><span class=\"number\">0</span> <span class=\"word\">subscribers</span></span><span class=\"score unvoted\" title=\"1\"><span class=\"number\">1</span> <span class=\"word\">subscriber</span></span><span class=\"score likes\" title=\"2\"><span class=\"number\">2</span> <span class=\"word\">subscribers</span></span>, a community for 1 minute</p><ul class=\"flat-list buttons\"><li class=\"report-button login-required\"><a class=\"reportbtn access-required\" data-event-action=\"report\" href=\"javascript:void(0)\">report</a></li></ul><div class=\"reportform report-t5_8rbxpq\"></div></div><div class=\"child\"></div><div class=\"clearleft\"></div></div>"
      ]
     },
     "execution_count": 454,
     "metadata": {},
     "output_type": "execute_result"
    }
   ],
   "source": [
    "# lxml.html.tostring(r_els[0])\n",
    "r_els[0]"
   ]
  },
  {
   "cell_type": "code",
   "execution_count": 455,
   "id": "5e7d876f",
   "metadata": {},
   "outputs": [
    {
     "data": {
      "text/plain": [
       "'joinleaver/BypassingTheMatrix: BypassingTheMatrix0 subscribers1 subscriber2 subscribers, a community for 1 minutereport'"
      ]
     },
     "execution_count": 455,
     "metadata": {},
     "output_type": "execute_result"
    }
   ],
   "source": [
    "# all text for a single subreddit element, incl children\n",
    "# r_els[0].text_content()\n",
    "r_els[0].text"
   ]
  },
  {
   "cell_type": "code",
   "execution_count": 456,
   "id": "59ef1329",
   "metadata": {},
   "outputs": [
    {
     "data": {
      "text/plain": [
       "['r/BypassingTheMatrix: BypassingTheMatrix0 subscribers1 subscriber2 subscribers, a community for 1 minu',\n",
       " 'r/HDSpiderManVersenow2: Where Can I Watch Spider Man Across The Spider Verse Free Online For Reddit?Universal Pictures! Here’s options for downloading or watching Spider-Man: Across the Spider-Verse streaming the full 𝓂𝑜𝓋𝒾𝑒 online for free on 123𝓂𝑜𝓋𝒾𝑒s & Reddit including where to watch Universal Pictures’ 𝓂𝑜𝓋𝒾𝑒 at home. Is Spider-Man: Across the Spider-Verse 2023 available to stream? Is watching Spider-Man: Across the Spider-Verse on Disney Plus, HBO Max, Netflix or Amazon Prime? Yes we have found an authentic streaming option /\\n\\n0 subscribers1 subscriber2 subscribers, a community for 1 minu',\n",
       " 'r/Ritam1: Ritam10 subscribers1 subscriber2 subscribers, a community for 1 minu']"
      ]
     },
     "execution_count": 456,
     "metadata": {},
     "output_type": "execute_result"
    }
   ],
   "source": [
    "# all text for all subreddits on page\n",
    "# text_content = [r.text_content().lstrip(\"joinleave\").rstrip(\"report\") for r in r_els]\n",
    "text_content = [r.text.lstrip(\"joinleave\").rstrip(\"report\") for r in r_els]\n",
    "text_content[:3]"
   ]
  },
  {
   "cell_type": "markdown",
   "id": "18826334",
   "metadata": {},
   "source": [
    "## Parsing the data"
   ]
  },
  {
   "cell_type": "code",
   "execution_count": 474,
   "id": "2488e66a",
   "metadata": {},
   "outputs": [
    {
     "name": "stdout",
     "output_type": "stream",
     "text": [
      "<div class=\"thing id-t5_8rc6ew odd subreddit\" data-fullname=\"t5_8rc6ew\" data-gildings=\"0\" data-type=\"subreddit\" data-whitelist-status=\"\" id=\"thing_t5_8rc6ew\" onclick=\"click_thing(this)\"><p class=\"parent\"></p><div class=\"midcol\"><span class=\"fancy-toggle-button subscribe-button toggle\" data-sr_name=\"SoundFreedomnowFree\" style=\"\"><a class=\"option active add login-required\" href=\"#\" tabindex=\"100\">join</a><a class=\"option remove\" href=\"#\">leave</a></span><span alt=\"not approved\" class=\"sr-type-icon sr-type-icon-restricted\" title=\"not approved\"></span></div><div class=\"entry unvoted\"><p class=\"titlerow\"><a class=\"title\" href=\"https://www.reddit.com/r/SoundFreedomnowFree/\">r/SoundFreedomnowFree: Where To Watch Sound of Freedom Online For Free ReddiT</a></p><div class=\"description\"><form action=\"#\" class=\"usertext warn-on-unload\" id=\"form-t5_8rc6ewza3\" onsubmit=\"return post_form(this, 'editusertext')\"><input name=\"thing_id\" type=\"hidden\" value=\"t5_8rc6ew\"/><div class=\"usertext-body may-blank-within md-container\"><div class=\"md\"><p>Now Is Sound of Freedom available to stream? Is watching Sound of Freedom on Disney Plus, HBO Max, Netflix or Amazon Prime? Yes we have found an authentic streaming option / service. #Sound of Freedom fre</p>\n",
      "</div>\n",
      "</div></form></div><p class=\"tagline\"><span class=\"score dislikes\" title=\"0\"><span class=\"number\">0</span> <span class=\"word\">subscribers</span></span><span class=\"score unvoted\" title=\"1\"><span class=\"number\">1</span> <span class=\"word\">subscriber</span></span><span class=\"score likes\" title=\"2\"><span class=\"number\">2</span> <span class=\"word\">subscribers</span></span>, a community for 3 minutes</p><ul class=\"flat-list buttons\"><li class=\"report-button login-required\"><a class=\"reportbtn access-required\" data-event-action=\"report\" href=\"javascript:void(0)\">report</a></li></ul><div class=\"reportform report-t5_8rc6ew\"></div></div><div class=\"child\"></div><div class=\"clearleft\"></div></div>\n"
     ]
    }
   ],
   "source": [
    "from datetime import datetime\n",
    "\n",
    "def get_all_desc(desc_elements_list):\n",
    "    if len(desc_elements_list) > 0:\n",
    "        return \" \".join([el.text for el in desc_elements_list])\n",
    "    else:\n",
    "        \"\"\n",
    "\n",
    "def parse_and_add_to_df(els_list, core_df):\n",
    "    search_str = re.compile(r\"a community for (.*)report\")\n",
    "    parsed_subs_list = []\n",
    "\n",
    "    for r in els_list:\n",
    "        sub_data = {\n",
    "        \"name\": r.select_one(\".titlerow\").text.split(\":\")[0],\n",
    "        \"desc\": get_all_desc(r.select(\"div.md > p\")),\n",
    "        \"sub_age_tup\": (re.search(search_str, r.text).group(1).split()),\n",
    "        \"page_id\": r.get(\"id\").lstrip(\"thing_\"),\n",
    "        \"num_subscribers\": r.select_one(\"p.tagline > span.unvoted > span.number\").text,\n",
    "        \"dt_retrieved\": datetime.now()\n",
    "        }\n",
    "        sub_data[\"age_num\"] = sub_data[\"sub_age_tup\"][0]\n",
    "        sub_data[\"age_word\"] = sub_data[\"sub_age_tup\"][1]\n",
    "        sub_data.pop(\"sub_age_tup\")\n",
    "        parsed_subs_list.append(sub_data)\n",
    "\n",
    "#         print(f\"name: {sub_data['name']}\")\n",
    "#         print(f\"age: {sub_data['subs_num']} {sub_data['subs_word']}\")\n",
    "#         print(f\"desc: {sub_data['desc']}\")\n",
    "#         print(sub_data[\"page_id\"])\n",
    "#         print(\"****\")\n",
    "\n",
    "#     print(parsed_subs_list)\n",
    "    return pd.concat([df, pd.DataFrame(parsed_subs_list)], ignore_index=True)\n",
    "\n",
    "df = pd.DataFrame()\n",
    "print(r_els[0])\n",
    "df = parse_and_add_to_df(r_els, df)"
   ]
  },
  {
   "cell_type": "code",
   "execution_count": 475,
   "id": "4892b34c",
   "metadata": {},
   "outputs": [
    {
     "data": {
      "text/html": [
       "<div>\n",
       "<style scoped>\n",
       "    .dataframe tbody tr th:only-of-type {\n",
       "        vertical-align: middle;\n",
       "    }\n",
       "\n",
       "    .dataframe tbody tr th {\n",
       "        vertical-align: top;\n",
       "    }\n",
       "\n",
       "    .dataframe thead th {\n",
       "        text-align: right;\n",
       "    }\n",
       "</style>\n",
       "<table border=\"1\" class=\"dataframe\">\n",
       "  <thead>\n",
       "    <tr style=\"text-align: right;\">\n",
       "      <th></th>\n",
       "      <th>name</th>\n",
       "      <th>desc</th>\n",
       "      <th>page_id</th>\n",
       "      <th>num_subscribers</th>\n",
       "      <th>dt_retrieved</th>\n",
       "      <th>age_num</th>\n",
       "      <th>age_word</th>\n",
       "    </tr>\n",
       "  </thead>\n",
       "  <tbody>\n",
       "    <tr>\n",
       "      <th>0</th>\n",
       "      <td>r/SoundFreedomnowFree</td>\n",
       "      <td>Now Is Sound of Freedom available to stream? I...</td>\n",
       "      <td>5_8rc6ew</td>\n",
       "      <td>1</td>\n",
       "      <td>2023-07-04 16:10:34.262942</td>\n",
       "      <td>3</td>\n",
       "      <td>minutes</td>\n",
       "    </tr>\n",
       "    <tr>\n",
       "      <th>1</th>\n",
       "      <td>r/ArcadeParty</td>\n",
       "      <td>Arcade Party is a game developed by Team Arcad...</td>\n",
       "      <td>5_8rc66r</td>\n",
       "      <td>1</td>\n",
       "      <td>2023-07-04 16:10:34.263796</td>\n",
       "      <td>4</td>\n",
       "      <td>minutes</td>\n",
       "    </tr>\n",
       "    <tr>\n",
       "      <th>5</th>\n",
       "      <td>r/thedogmanreport</td>\n",
       "      <td>A place for more convenient discussion of The ...</td>\n",
       "      <td>5_8rc5we</td>\n",
       "      <td>1</td>\n",
       "      <td>2023-07-04 16:10:34.266836</td>\n",
       "      <td>5</td>\n",
       "      <td>minutes</td>\n",
       "    </tr>\n",
       "    <tr>\n",
       "      <th>21</th>\n",
       "      <td>r/IndianaJonesHR</td>\n",
       "      <td>31sec ago, Adventure Movie! Here’s options for...</td>\n",
       "      <td>5_8rc3q0</td>\n",
       "      <td>2</td>\n",
       "      <td>2023-07-04 16:10:34.280661</td>\n",
       "      <td>13</td>\n",
       "      <td>minutes</td>\n",
       "    </tr>\n",
       "    <tr>\n",
       "      <th>31</th>\n",
       "      <td>r/ApolloAutomation</td>\n",
       "      <td>Designed and assembled in the USA</td>\n",
       "      <td>5_8rc2kw</td>\n",
       "      <td>1</td>\n",
       "      <td>2023-07-04 16:10:34.289158</td>\n",
       "      <td>17</td>\n",
       "      <td>minutes</td>\n",
       "    </tr>\n",
       "    <tr>\n",
       "      <th>32</th>\n",
       "      <td>r/stop_christ_bot</td>\n",
       "      <td>stop u/christ_bot_9001</td>\n",
       "      <td>5_8rc271</td>\n",
       "      <td>1</td>\n",
       "      <td>2023-07-04 16:10:34.289869</td>\n",
       "      <td>18</td>\n",
       "      <td>minutes</td>\n",
       "    </tr>\n",
       "    <tr>\n",
       "      <th>40</th>\n",
       "      <td>r/femalefashionadvice2</td>\n",
       "      <td>A secondary community for female fashion advice.</td>\n",
       "      <td>5_8rc1lf</td>\n",
       "      <td>1</td>\n",
       "      <td>2023-07-04 16:10:34.296981</td>\n",
       "      <td>20</td>\n",
       "      <td>minutes</td>\n",
       "    </tr>\n",
       "    <tr>\n",
       "      <th>44</th>\n",
       "      <td>r/SoundFreedomhdNow</td>\n",
       "      <td>How To watch Sound of Freedom online free, whi...</td>\n",
       "      <td>5_8rc1hj</td>\n",
       "      <td>1</td>\n",
       "      <td>2023-07-04 16:10:34.300320</td>\n",
       "      <td>20</td>\n",
       "      <td>minutes</td>\n",
       "    </tr>\n",
       "    <tr>\n",
       "      <th>47</th>\n",
       "      <td>r/marmarauni</td>\n",
       "      <td>Unofficial subreddit of Marmara University</td>\n",
       "      <td>5_8rc0y6</td>\n",
       "      <td>3</td>\n",
       "      <td>2023-07-04 16:10:34.302677</td>\n",
       "      <td>22</td>\n",
       "      <td>minutes</td>\n",
       "    </tr>\n",
       "    <tr>\n",
       "      <th>48</th>\n",
       "      <td>r/scheletridelloxlao</td>\n",
       "      <td>Qui entrano solo i veri fans</td>\n",
       "      <td>5_8rc0wt</td>\n",
       "      <td>1</td>\n",
       "      <td>2023-07-04 16:10:34.303598</td>\n",
       "      <td>22</td>\n",
       "      <td>minutes</td>\n",
       "    </tr>\n",
       "    <tr>\n",
       "      <th>49</th>\n",
       "      <td>r/AI_Art_Anime</td>\n",
       "      <td>Use AI Art Generators and post away</td>\n",
       "      <td>5_8rc0n0</td>\n",
       "      <td>1</td>\n",
       "      <td>2023-07-04 16:10:34.304517</td>\n",
       "      <td>23</td>\n",
       "      <td>minutes</td>\n",
       "    </tr>\n",
       "    <tr>\n",
       "      <th>56</th>\n",
       "      <td>r/SoundofFredomhdFre</td>\n",
       "      <td>[Official] Watch Sound of Freedom online is fr...</td>\n",
       "      <td>5_8rc012</td>\n",
       "      <td>1</td>\n",
       "      <td>2023-07-04 16:10:34.310139</td>\n",
       "      <td>25</td>\n",
       "      <td>minutes</td>\n",
       "    </tr>\n",
       "    <tr>\n",
       "      <th>57</th>\n",
       "      <td>r/BuyCialis</td>\n",
       "      <td>Buy Cialis Generic | \\nBuy Brand Cialis | \\nBu...</td>\n",
       "      <td>5_8rbzxc</td>\n",
       "      <td>0</td>\n",
       "      <td>2023-07-04 16:10:34.311045</td>\n",
       "      <td>26</td>\n",
       "      <td>minutes</td>\n",
       "    </tr>\n",
       "    <tr>\n",
       "      <th>62</th>\n",
       "      <td>r/SoundFreedomhd</td>\n",
       "      <td>Watch Sound of Freedom Movie!! Streaming, Stil...</td>\n",
       "      <td>5_8rbz33</td>\n",
       "      <td>1</td>\n",
       "      <td>2023-07-04 16:10:34.314912</td>\n",
       "      <td>29</td>\n",
       "      <td>minutes</td>\n",
       "    </tr>\n",
       "    <tr>\n",
       "      <th>63</th>\n",
       "      <td>r/BolosCaseiros</td>\n",
       "      <td>Escola de bolos caseiros. Escola de bolos case...</td>\n",
       "      <td>5_8rbz1s</td>\n",
       "      <td>1</td>\n",
       "      <td>2023-07-04 16:10:34.315720</td>\n",
       "      <td>29</td>\n",
       "      <td>minutes</td>\n",
       "    </tr>\n",
       "    <tr>\n",
       "      <th>65</th>\n",
       "      <td>r/hollow_help_memes</td>\n",
       "      <td>Welcome to this subreddit! If you want to post...</td>\n",
       "      <td>5_8rbyn6</td>\n",
       "      <td>1</td>\n",
       "      <td>2023-07-04 16:10:34.317338</td>\n",
       "      <td>30</td>\n",
       "      <td>minutes</td>\n",
       "    </tr>\n",
       "    <tr>\n",
       "      <th>66</th>\n",
       "      <td>r/ufc290strams</td>\n",
       "      <td>UFC 290 LIVE STREAMS@REDDIT UFC 290 Live Strea...</td>\n",
       "      <td>5_8rbyj8</td>\n",
       "      <td>2</td>\n",
       "      <td>2023-07-04 16:10:34.317993</td>\n",
       "      <td>31</td>\n",
       "      <td>minutes</td>\n",
       "    </tr>\n",
       "    <tr>\n",
       "      <th>77</th>\n",
       "      <td>r/HDSpiderManVersenow2</td>\n",
       "      <td>Universal Pictures! Here’s options for downloa...</td>\n",
       "      <td>5_8rbxn4</td>\n",
       "      <td>1</td>\n",
       "      <td>2023-07-04 16:10:34.325163</td>\n",
       "      <td>34</td>\n",
       "      <td>minutes</td>\n",
       "    </tr>\n",
       "    <tr>\n",
       "      <th>89</th>\n",
       "      <td>r/averager3dditor</td>\n",
       "      <td>A place to post redditors that try incredibly ...</td>\n",
       "      <td>5_8rbwid</td>\n",
       "      <td>1</td>\n",
       "      <td>2023-07-04 16:10:34.334363</td>\n",
       "      <td>37</td>\n",
       "      <td>minutes</td>\n",
       "    </tr>\n",
       "    <tr>\n",
       "      <th>90</th>\n",
       "      <td>r/ana_mia_support</td>\n",
       "      <td>This is a support sub for those struggling wit...</td>\n",
       "      <td>5_8rbwd1</td>\n",
       "      <td>1</td>\n",
       "      <td>2023-07-04 16:10:34.335542</td>\n",
       "      <td>38</td>\n",
       "      <td>minutes</td>\n",
       "    </tr>\n",
       "    <tr>\n",
       "      <th>91</th>\n",
       "      <td>r/found140percentbanana</td>\n",
       "      <td>The other silly banana man.</td>\n",
       "      <td>5_8rbw69</td>\n",
       "      <td>1</td>\n",
       "      <td>2023-07-04 16:10:34.336388</td>\n",
       "      <td>38</td>\n",
       "      <td>minutes</td>\n",
       "    </tr>\n",
       "    <tr>\n",
       "      <th>92</th>\n",
       "      <td>r/Art_Music</td>\n",
       "      <td>🎨🎶✨🎥 Discover the vibrant world of art, music,...</td>\n",
       "      <td>5_8rbvts</td>\n",
       "      <td>1</td>\n",
       "      <td>2023-07-04 16:10:34.337199</td>\n",
       "      <td>40</td>\n",
       "      <td>minutes</td>\n",
       "    </tr>\n",
       "    <tr>\n",
       "      <th>97</th>\n",
       "      <td>r/BreakfastVideos</td>\n",
       "      <td>/r/mealtimevideos but open to submissions</td>\n",
       "      <td>5_8rbvo8</td>\n",
       "      <td>1</td>\n",
       "      <td>2023-07-04 16:10:34.340922</td>\n",
       "      <td>40</td>\n",
       "      <td>minutes</td>\n",
       "    </tr>\n",
       "    <tr>\n",
       "      <th>98</th>\n",
       "      <td>r/RussiaUkraineWars</td>\n",
       "      <td>This is a Subreddit that was created for every...</td>\n",
       "      <td>5_8rbvhi</td>\n",
       "      <td>1</td>\n",
       "      <td>2023-07-04 16:10:34.341875</td>\n",
       "      <td>41</td>\n",
       "      <td>minutes</td>\n",
       "    </tr>\n",
       "    <tr>\n",
       "      <th>99</th>\n",
       "      <td>r/Guaira</td>\n",
       "      <td>Guaíra é um município brasileiro localizado no...</td>\n",
       "      <td>5_8rbvg2</td>\n",
       "      <td>2</td>\n",
       "      <td>2023-07-04 16:10:34.342752</td>\n",
       "      <td>41</td>\n",
       "      <td>minutes</td>\n",
       "    </tr>\n",
       "  </tbody>\n",
       "</table>\n",
       "</div>"
      ],
      "text/plain": [
       "                       name  \\\n",
       "0     r/SoundFreedomnowFree   \n",
       "1             r/ArcadeParty   \n",
       "5         r/thedogmanreport   \n",
       "21         r/IndianaJonesHR   \n",
       "31       r/ApolloAutomation   \n",
       "32        r/stop_christ_bot   \n",
       "40   r/femalefashionadvice2   \n",
       "44      r/SoundFreedomhdNow   \n",
       "47             r/marmarauni   \n",
       "48     r/scheletridelloxlao   \n",
       "49           r/AI_Art_Anime   \n",
       "56     r/SoundofFredomhdFre   \n",
       "57              r/BuyCialis   \n",
       "62         r/SoundFreedomhd   \n",
       "63          r/BolosCaseiros   \n",
       "65      r/hollow_help_memes   \n",
       "66           r/ufc290strams   \n",
       "77   r/HDSpiderManVersenow2   \n",
       "89        r/averager3dditor   \n",
       "90        r/ana_mia_support   \n",
       "91  r/found140percentbanana   \n",
       "92              r/Art_Music   \n",
       "97        r/BreakfastVideos   \n",
       "98      r/RussiaUkraineWars   \n",
       "99                 r/Guaira   \n",
       "\n",
       "                                                 desc   page_id  \\\n",
       "0   Now Is Sound of Freedom available to stream? I...  5_8rc6ew   \n",
       "1   Arcade Party is a game developed by Team Arcad...  5_8rc66r   \n",
       "5   A place for more convenient discussion of The ...  5_8rc5we   \n",
       "21  31sec ago, Adventure Movie! Here’s options for...  5_8rc3q0   \n",
       "31                  Designed and assembled in the USA  5_8rc2kw   \n",
       "32                            stop u/christ_bot_9001   5_8rc271   \n",
       "40   A secondary community for female fashion advice.  5_8rc1lf   \n",
       "44  How To watch Sound of Freedom online free, whi...  5_8rc1hj   \n",
       "47         Unofficial subreddit of Marmara University  5_8rc0y6   \n",
       "48                       Qui entrano solo i veri fans  5_8rc0wt   \n",
       "49                Use AI Art Generators and post away  5_8rc0n0   \n",
       "56  [Official] Watch Sound of Freedom online is fr...  5_8rc012   \n",
       "57  Buy Cialis Generic | \\nBuy Brand Cialis | \\nBu...  5_8rbzxc   \n",
       "62  Watch Sound of Freedom Movie!! Streaming, Stil...  5_8rbz33   \n",
       "63  Escola de bolos caseiros. Escola de bolos case...  5_8rbz1s   \n",
       "65  Welcome to this subreddit! If you want to post...  5_8rbyn6   \n",
       "66  UFC 290 LIVE STREAMS@REDDIT UFC 290 Live Strea...  5_8rbyj8   \n",
       "77  Universal Pictures! Here’s options for downloa...  5_8rbxn4   \n",
       "89  A place to post redditors that try incredibly ...  5_8rbwid   \n",
       "90  This is a support sub for those struggling wit...  5_8rbwd1   \n",
       "91                        The other silly banana man.  5_8rbw69   \n",
       "92  🎨🎶✨🎥 Discover the vibrant world of art, music,...  5_8rbvts   \n",
       "97          /r/mealtimevideos but open to submissions  5_8rbvo8   \n",
       "98  This is a Subreddit that was created for every...  5_8rbvhi   \n",
       "99  Guaíra é um município brasileiro localizado no...  5_8rbvg2   \n",
       "\n",
       "   num_subscribers               dt_retrieved age_num age_word  \n",
       "0                1 2023-07-04 16:10:34.262942       3  minutes  \n",
       "1                1 2023-07-04 16:10:34.263796       4  minutes  \n",
       "5                1 2023-07-04 16:10:34.266836       5  minutes  \n",
       "21               2 2023-07-04 16:10:34.280661      13  minutes  \n",
       "31               1 2023-07-04 16:10:34.289158      17  minutes  \n",
       "32               1 2023-07-04 16:10:34.289869      18  minutes  \n",
       "40               1 2023-07-04 16:10:34.296981      20  minutes  \n",
       "44               1 2023-07-04 16:10:34.300320      20  minutes  \n",
       "47               3 2023-07-04 16:10:34.302677      22  minutes  \n",
       "48               1 2023-07-04 16:10:34.303598      22  minutes  \n",
       "49               1 2023-07-04 16:10:34.304517      23  minutes  \n",
       "56               1 2023-07-04 16:10:34.310139      25  minutes  \n",
       "57               0 2023-07-04 16:10:34.311045      26  minutes  \n",
       "62               1 2023-07-04 16:10:34.314912      29  minutes  \n",
       "63               1 2023-07-04 16:10:34.315720      29  minutes  \n",
       "65               1 2023-07-04 16:10:34.317338      30  minutes  \n",
       "66               2 2023-07-04 16:10:34.317993      31  minutes  \n",
       "77               1 2023-07-04 16:10:34.325163      34  minutes  \n",
       "89               1 2023-07-04 16:10:34.334363      37  minutes  \n",
       "90               1 2023-07-04 16:10:34.335542      38  minutes  \n",
       "91               1 2023-07-04 16:10:34.336388      38  minutes  \n",
       "92               1 2023-07-04 16:10:34.337199      40  minutes  \n",
       "97               1 2023-07-04 16:10:34.340922      40  minutes  \n",
       "98               1 2023-07-04 16:10:34.341875      41  minutes  \n",
       "99               2 2023-07-04 16:10:34.342752      41  minutes  "
      ]
     },
     "execution_count": 475,
     "metadata": {},
     "output_type": "execute_result"
    }
   ],
   "source": [
    "# number of records with desc\n",
    "df[~df[\"desc\"].isna()]"
   ]
  },
  {
   "cell_type": "code",
   "execution_count": 478,
   "id": "5fa773de",
   "metadata": {},
   "outputs": [
    {
     "data": {
      "text/plain": [
       "age_word\n",
       "minutes    100\n",
       "Name: count, dtype: int64"
      ]
     },
     "execution_count": 478,
     "metadata": {},
     "output_type": "execute_result"
    }
   ],
   "source": [
    "df[\"age_word\"].value_counts()"
   ]
  },
  {
   "cell_type": "markdown",
   "id": "2581827b",
   "metadata": {},
   "source": [
    "## Get next page"
   ]
  },
  {
   "cell_type": "code",
   "execution_count": 479,
   "id": "0d83679f",
   "metadata": {},
   "outputs": [
    {
     "name": "stdout",
     "output_type": "stream",
     "text": [
      "Fetching page 1\n",
      "Fetching page 2\n",
      "Fetching page 3\n"
     ]
    }
   ],
   "source": [
    "from time import sleep\n",
    "\n",
    "for i in range(3):\n",
    "    print(\"Fetching page \" + str(i + 1))\n",
    "    sleep(1)"
   ]
  },
  {
   "cell_type": "code",
   "execution_count": 470,
   "id": "28749723",
   "metadata": {},
   "outputs": [
    {
     "data": {
      "text/plain": [
       "'https://www.reddit.com/subreddits/new?limit=100&count=100&after=t5_8r8ktl'"
      ]
     },
     "execution_count": 470,
     "metadata": {},
     "output_type": "execute_result"
    }
   ],
   "source": [
    "get_next_url(100, \"t5_8r8ktl\")\n",
    "# https://www.reddit.com/subreddits/new?count=25&after=t5_8r8ktl"
   ]
  },
  {
   "cell_type": "code",
   "execution_count": 471,
   "id": "6cae2809",
   "metadata": {},
   "outputs": [
    {
     "data": {
      "text/plain": [
       "99    5_8rbjja\n",
       "Name: page_id, dtype: object"
      ]
     },
     "execution_count": 471,
     "metadata": {},
     "output_type": "execute_result"
    }
   ],
   "source": [
    "df.loc[df[\"dt_retrieved\"] == df[\"dt_retrieved\"].max()][\"page_id\"]"
   ]
  },
  {
   "cell_type": "code",
   "execution_count": 472,
   "id": "c94e64b4",
   "metadata": {},
   "outputs": [
    {
     "data": {
      "text/plain": [
       "'5_8rbjja'"
      ]
     },
     "execution_count": 472,
     "metadata": {},
     "output_type": "execute_result"
    }
   ],
   "source": [
    "last_page_id = df.loc[df[\"dt_retrieved\"] == df[\"dt_retrieved\"].max()][\"page_id\"].values[0] \\\n",
    "    if (len(df) > 1) else None\n",
    "last_page_id"
   ]
  },
  {
   "cell_type": "code",
   "execution_count": 473,
   "id": "dca524b4",
   "metadata": {
    "scrolled": true
   },
   "outputs": [
    {
     "name": "stdout",
     "output_type": "stream",
     "text": [
      "last page id => None\n",
      "None\n",
      "https://www.reddit.com/subreddits/new?limit=100\n",
      "page: 0\n",
      "Fetching https://www.reddit.com/subreddits/new?limit=100\n",
      "<title>subreddits</title>\n",
      "last page id => 5_8rbvg2\n",
      "5_8rbvg2\n",
      "page: 1\n",
      "Fetching https://www.reddit.com/subreddits/new?limit=100&count=100&after=5_8rbvg2\n",
      "<title>subreddits</title>\n",
      "last page id => 5_8rbvg2\n",
      "5_8rbvg2\n",
      "page: 2\n",
      "Fetching https://www.reddit.com/subreddits/new?limit=100&count=200&after=5_8rbvg2\n",
      "<title>subreddits</title>\n"
     ]
    }
   ],
   "source": [
    "# setup\n",
    "core_df = pd.DataFrame()\n",
    "result_limit = 100\n",
    "\n",
    "# fetch each page\n",
    "# if last resultset returned less than the limit (100), stop fetching\n",
    "for page_nr in range(3): # swap to while loop after\n",
    "    last_page_id = core_df.loc[core_df[\"dt_retrieved\"] == core_df[\"dt_retrieved\"].max()][\"page_id\"].values[0] \\\n",
    "        if (len(core_df) > 1) else None\n",
    "    print(f\"last page id => {last_page_id}\")\n",
    "    html = fetch_next_page(page_nr, result_limit, last_page_id)\n",
    "    sleep(2)\n",
    "\n",
    "    soup = BeautifulSoup(html, \"lxml\")\n",
    "    print(soup.title)\n",
    "\n",
    "    # parse each page, add to df\n",
    "    r_els = soup.select(\"#siteTable > div.subreddit\")\n",
    "    core_df = parse_and_add_to_df(r_els, core_df)\n",
    "    sleep(2)\n",
    "    if len(r_els) < 25:\n",
    "        print(len(r_els))\n",
    "        break"
   ]
  },
  {
   "cell_type": "code",
   "execution_count": null,
   "id": "9ceb210d",
   "metadata": {},
   "outputs": [],
   "source": []
  }
 ],
 "metadata": {
  "kernelspec": {
   "display_name": "Python 3 (ipykernel)",
   "language": "python",
   "name": "python3"
  },
  "language_info": {
   "codemirror_mode": {
    "name": "ipython",
    "version": 3
   },
   "file_extension": ".py",
   "mimetype": "text/x-python",
   "name": "python",
   "nbconvert_exporter": "python",
   "pygments_lexer": "ipython3",
   "version": "3.10.11"
  }
 },
 "nbformat": 4,
 "nbformat_minor": 5
}
